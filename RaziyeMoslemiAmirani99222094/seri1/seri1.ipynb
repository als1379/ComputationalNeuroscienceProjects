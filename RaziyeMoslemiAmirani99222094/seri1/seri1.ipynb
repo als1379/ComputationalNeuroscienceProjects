{
 "cells": [
  {
   "cell_type": "code",
   "execution_count": 32,
   "id": "2f4b9fb3",
   "metadata": {},
   "outputs": [
    {
     "ename": "ModuleNotFoundError",
     "evalue": "No module named 'Functions'",
     "output_type": "error",
     "traceback": [
      "\u001b[1;31m---------------------------------------------------------------------------\u001b[0m",
      "\u001b[1;31mModuleNotFoundError\u001b[0m                       Traceback (most recent call last)",
      "\u001b[1;32m~\\AppData\\Local\\Temp/ipykernel_8384/1585205354.py\u001b[0m in \u001b[0;36m<module>\u001b[1;34m\u001b[0m\n\u001b[0;32m      1\u001b[0m \u001b[1;32mimport\u001b[0m \u001b[0mnumpy\u001b[0m \u001b[1;32mas\u001b[0m \u001b[0mnp\u001b[0m\u001b[1;33m\u001b[0m\u001b[1;33m\u001b[0m\u001b[0m\n\u001b[0;32m      2\u001b[0m \u001b[1;32mimport\u001b[0m \u001b[0mmath\u001b[0m\u001b[1;33m\u001b[0m\u001b[1;33m\u001b[0m\u001b[0m\n\u001b[1;32m----> 3\u001b[1;33m \u001b[1;32mimport\u001b[0m \u001b[0mFunctions\u001b[0m\u001b[1;33m\u001b[0m\u001b[1;33m\u001b[0m\u001b[0m\n\u001b[0m",
      "\u001b[1;31mModuleNotFoundError\u001b[0m: No module named 'Functions'"
     ]
    }
   ],
   "source": [
    "import numpy as np\n",
    "import math\n"
   ]
  },
  {
   "cell_type": "markdown",
   "id": "6dde19a2",
   "metadata": {},
   "source": [
    "# Functions for I \n",
    ".interval \n",
    ".linear\n",
    ".Sin\n",
    ".constant\n",
    ".step"
   ]
  },
  {
   "cell_type": "code",
   "execution_count": 56,
   "id": "c79d8dab",
   "metadata": {},
   "outputs": [
    {
     "ename": "SyntaxError",
     "evalue": "invalid syntax (Temp/ipykernel_8384/359676193.py, line 4)",
     "output_type": "error",
     "traceback": [
      "\u001b[1;36m  File \u001b[1;32m\"C:\\Users\\RAZIYE\\AppData\\Local\\Temp/ipykernel_8384/359676193.py\"\u001b[1;36m, line \u001b[1;32m4\u001b[0m\n\u001b[1;33m    def function ( self , func , timer , dt = 0.1 , i = 5 , c = 3 )\u001b[0m\n\u001b[1;37m                                                                   ^\u001b[0m\n\u001b[1;31mSyntaxError\u001b[0m\u001b[1;31m:\u001b[0m invalid syntax\n"
     ]
    }
   ],
   "source": [
    "class Functions:\n",
    "    __p = 3.141592 \n",
    "        \n",
    "    def function ( self , func , timer , dt = 0.1 , i = 5 , c = 3 )\n",
    "        self.duration = [20 , 80]\n",
    "        self.duration1 = [25 , 50]\n",
    "        self.duration2 = [60 , 85]\n",
    "        i_input = [] \n",
    "        time_arange = np.arange ( 0 , timer + dt , dt )\n",
    "        \n",
    "        for j in time_arange :\n",
    "            if ( func = 'interval')\n",
    "                if (self.duration[0] < j < self.duration[1])\n",
    "                    i_input.append ( i )\n",
    "                i_input(0)\n",
    "                    \n",
    "                    \n",
    "            if ( func = 'linear')\n",
    "                i_input.append ( c * j )\n",
    "                \n",
    "\n",
    "            if ( func = 'sin') \n",
    "                i_input.append (c * (0.9 + math.sin(time) )\n",
    "                                \n",
    "                                \n",
    "                                \n",
    "            if ( func = 'constant' ) \n",
    "                i_input.append (i*p)\n",
    "                                \n",
    "                                \n",
    "\n",
    "            if ( func = 'step' )\n",
    "                if ( self.duration1[0] < j < self.duration1[1] or self.duration2[0] < j < self.duration2[1] ) \n",
    "                    i_input.append ( i )\n",
    "                i_input.append ( 0 )\n",
    "        \n",
    "        \n",
    "        return i_input \n",
    "                                \n",
    "                                \n",
    "        def converted_i ( i_input )\n",
    "            set i_set = set ( i_input )\n",
    "            \n",
    "            for ii in i_set \n",
    "                \n",
    "    \n",
    "    "
   ]
  },
  {
   "cell_type": "markdown",
   "id": "9bd4e803",
   "metadata": {},
   "source": [
    "# LIF Model"
   ]
  },
  {
   "cell_type": "raw",
   "id": "b9c62edb",
   "metadata": {},
   "source": [
    "class LIF :\n",
    "    \n",
    "    fun = Functions() \n",
    "    \n",
    "    def __init__ (self ,time  , dt = 0.1 , u_rest = 0 , r = 1 , c = 1 , threshold = 3 )\n",
    "        self.time = time\n",
    "        self.dt = dt \n",
    "        self.u_rest = u_rest \n",
    "        self.r = r \n",
    "        self.c = c \n",
    "        self.threshold = threshold \n",
    "        self.U = [] \n",
    "        self.t = r * c \n",
    "        self.u = u_rest \n",
    "        self.spike = 0 \n",
    "        \n",
    "    \n",
    "    def proccess_UT ( self , i_input)   :\n",
    "        \n",
    "        for i in i_input :\n",
    "            self.u += ( - self.u + self.u_rest + self.r * i )*self.dt / self.t \n",
    "            if self.u >= self.threshold :\n",
    "                self.u = self.u_rest \n",
    "                self.spike++ \n",
    "            self.U.append ( self.u )\n",
    "            \n",
    "            \n",
    "            \n",
    "    def proccess_FI ( self , \n",
    "     \n",
    "            \n",
    "            \n",
    "            \n",
    "    \n",
    "    "
   ]
  },
  {
   "cell_type": "code",
   "execution_count": null,
   "id": "c62f57c5",
   "metadata": {},
   "outputs": [],
   "source": [
    "\n"
   ]
  },
  {
   "cell_type": "code",
   "execution_count": null,
   "id": "4362e804",
   "metadata": {},
   "outputs": [],
   "source": []
  }
 ],
 "metadata": {
  "kernelspec": {
   "display_name": "Python 3 (ipykernel)",
   "language": "python",
   "name": "python3"
  },
  "language_info": {
   "codemirror_mode": {
    "name": "ipython",
    "version": 3
   },
   "file_extension": ".py",
   "mimetype": "text/x-python",
   "name": "python",
   "nbconvert_exporter": "python",
   "pygments_lexer": "ipython3",
   "version": "3.9.7"
  }
 },
 "nbformat": 4,
 "nbformat_minor": 5
}
