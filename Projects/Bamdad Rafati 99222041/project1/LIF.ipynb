{
 "cells": [
  {
   "cell_type": "markdown",
   "id": "6c576482",
   "metadata": {},
   "source": [
    "# LIF Class"
   ]
  },
  {
   "cell_type": "code",
   "execution_count": 14,
   "id": "a8aa71e2",
   "metadata": {},
   "outputs": [],
   "source": [
    "import math\n",
    "import matplotlib.pyplot as plt\n",
    "\n",
    "\n",
    "class LIF:\n",
    "\n",
    "    def __init__(self, u_rest, resistance, tau, threshold,\n",
    "                 is_adaptive, tau_w, a, b,\n",
    "                 is_exponential, delta_tt, theta_rh):\n",
    "        self.u_rest = u_rest\n",
    "        self.resistance = resistance\n",
    "        self.tau = tau\n",
    "        self.threshold = threshold\n",
    "        self.is_adaptive = is_adaptive\n",
    "        self.tau_w = tau_w\n",
    "        self.a = a\n",
    "        self.b = b\n",
    "        self.is_exponential = is_exponential\n",
    "        self.delta_tt = delta_tt\n",
    "        self.theta_rh = theta_rh\n",
    "        self.u_t = []\n",
    "        self.i_t = []\n",
    "        self.w_t = []\n",
    "        self.sigma_delta_func = 0\n",
    "        self.u = u_rest\n",
    "        self.w = 0\n",
    "        self.spike_count = 0\n",
    "    ## Action Function For Model\n",
    "    \n",
    "    def action(self, i, dt):\n",
    "        exp_val = 0\n",
    "        if self.is_exponential:\n",
    "            exp_val = self.delta_tt * math.exp((self.u - self.theta_rh) / self.delta_tt)\n",
    "        du = dt * (-(self.u - self.u_rest) + exp_val - self.resistance * self.w + self.resistance * i) / self.tau\n",
    "        self.u += du\n",
    "\n",
    "        if self.is_adaptive:\n",
    "            dw = (dt / self.tau_w) * (self.a * (self.u - self.u_rest)\n",
    "                                      - self.w + self.b * self.tau_w * self.sigma_delta_func)\n",
    "            self.w += dw\n",
    "        self.sigma_delta_func = 0\n",
    "\n",
    "        if self.u >= self.threshold:\n",
    "            self.u = self.u_rest\n",
    "            self.sigma_delta_func = 1\n",
    "            self.spike_count += 1\n",
    "\n",
    "        self.u_t.append(self.u)\n",
    "        self.w_t.append(self.u)\n",
    "        self.i_t.append(i)\n"
   ]
  },
  {
   "cell_type": "code",
   "execution_count": 4,
   "id": "558307bf",
   "metadata": {},
   "outputs": [],
   "source": [
    "\n",
    "def work(model, func_i, time, dt):\n",
    "    current_t = 0\n",
    "    while current_t <= time:\n",
    "        model.action(func_i(current_t), dt)\n",
    "        current_t += dt"
   ]
  },
  {
   "cell_type": "markdown",
   "id": "75dbb3ba",
   "metadata": {},
   "source": [
    "# Ploting"
   ]
  },
  {
   "cell_type": "code",
   "execution_count": 15,
   "id": "8ac0b0f0",
   "metadata": {},
   "outputs": [],
   "source": [
    " def i_t_plot(i_t, dt):\n",
    "    plt.plot(list(map(lambda i: i * dt, range(len(i_t)))), i_t)\n",
    "    plt.ylabel('I')\n",
    "    plt.xlabel('Time')\n",
    "    plt.title('I-T plot')\n",
    "\n",
    "\n",
    "def w_t_plot(w_t, dt):\n",
    "    plt.plot(list(map(lambda i: i * dt, range(len(w_t)))), w_t)\n",
    "    plt.ylabel('w')\n",
    "    plt.xlabel('Time')\n",
    "    plt.title('W-T plot')\n",
    "\n",
    "\n",
    "def u_t_plot(u_t, dt):\n",
    "    plt.plot(list(map(lambda i: i * dt, range(len(u_t)))), u_t)\n",
    "    plt.ylabel('U')\n",
    "    plt.xlabel('Time')\n",
    "    plt.title('U-T plot')\n",
    "\n",
    "\n",
    "def f_i_plot(i_t, time, dt, ma):\n",
    "    m_i = list(set(i_t))\n",
    "    f_i = []\n",
    "\n",
    "    for i in m_i:\n",
    "        def func(t):\n",
    "            return i + 0 * t\n",
    "\n",
    "        mdl = LIF(u_rest=ma['u_rest'], resistance=ma['r'], tau=ma['tau'], threshold=ma['threshold'],\n",
    "                  is_adaptive=ma['is_a'], tau_w=ma['tau_w'], a=ma['a'], b=ma['b'],\n",
    "                  is_exponential=ma['is_e'], delta_tt=ma['delta_T'], theta_rh=ma['theta_rh'])\n",
    "        work(mdl, func, time, dt)\n",
    "        f_i.append(mdl.spike_count / time)\n",
    "    plt.plot(m_i, f_i)\n",
    "    plt.ylabel('f')\n",
    "    plt.xlabel('I')\n",
    "    plt.title('F-I plot')\n",
    "\n"
   ]
  }
 ],
 "metadata": {
  "kernelspec": {
   "display_name": "Python 3 (ipykernel)",
   "language": "python",
   "name": "python3"
  },
  "language_info": {
   "codemirror_mode": {
    "name": "ipython",
    "version": 3
   },
   "file_extension": ".py",
   "mimetype": "text/x-python",
   "name": "python",
   "nbconvert_exporter": "python",
   "pygments_lexer": "ipython3",
   "version": "3.9.7"
  }
 },
 "nbformat": 4,
 "nbformat_minor": 5
}
