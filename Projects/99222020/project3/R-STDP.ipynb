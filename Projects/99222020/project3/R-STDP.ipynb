{
 "cells": [
  {
   "cell_type": "code",
   "execution_count": 1,
   "id": "7b1ac2e1",
   "metadata": {},
   "outputs": [],
   "source": [
    "#Import Necessary Libraries\n",
    "from matplotlib.pyplot import *\n",
    "import numpy as np\n",
    "import matplotlib.pyplot as plt\n",
    "import random\n",
    "import math\n",
    "from statistics import mode\n",
    "from copy import deepcopy\n",
    "import heapq\n",
    "import pandas as pd"
   ]
  },
  {
   "cell_type": "code",
   "execution_count": 2,
   "id": "1e3747e9",
   "metadata": {},
   "outputs": [],
   "source": [
    "class LIF:\n",
    "    def __init__(self, dt=0.125, u_rest=0, R=1, \n",
    "                 C=10, threshold=5):\n",
    "        self.dt = dt\n",
    "        self.u_rest = u_rest\n",
    "        self.R = R\n",
    "        self.C = C\n",
    "        self.threshold = threshold\n",
    "        self.u = []\n",
    "        self.i_init = []\n",
    "        self.timer = []\n",
    "        self.is_spiked = False\n",
    "        self.last_spike = -1\n",
    "        \n",
    "        self.spikes = []\n",
    "        self.sike_count = 0\n",
    "        self.curentU = 0\n",
    "        \n",
    "    def one_move(self, current_time, current_input):\n",
    "        du = self.dt * (-1 * (self.curentU - self.u_rest) + 1e-3 * self.R * current_input) / (self.R * self.C)\n",
    "        self.curentU += du\n",
    "        current_time += du\n",
    "        self.is_spiked = True\n",
    "        if self.curentU > self.threshold:\n",
    "            self.curentU =self.u_rest\n",
    "            self.is_spiked = False\n",
    "            self.last_spike = current_time \n",
    "            self.sike_count += 1\n",
    "            self.spikes.append(current_time)\n",
    "        self.u.append(self.curentU)\n",
    "        \n",
    "    def reset(self):\n",
    "        self.u = []\n",
    "        self.spikes = []\n",
    "        self.sike_count = 0\n",
    "        self.curentU = self.u_rest"
   ]
  },
  {
   "cell_type": "code",
   "execution_count": 3,
   "id": "d3deff68",
   "metadata": {},
   "outputs": [],
   "source": [
    " class SNN:\n",
    "    def __init__(self, dimention, neurons, tau_t, tau_dope, r_score):\n",
    "        self.dim = dimention\n",
    "        self.neurons = neurons\n",
    "        self.tau_t = tau_t\n",
    "        self.tau_d = tau_dope\n",
    "        self.r_score = r_score\n",
    "        self.connectins = []\n",
    "        self.tags = []\n",
    "        self.dopamine = 0\n",
    "        self.connect()\n",
    "        \n",
    "    def connect(self):\n",
    "        for i in range(0, len(self.dim) - 1):\n",
    "            self.connectins.append(np.ones((self.dim[i], self.dim[i+1])) * 8 + np.random.rand())\n",
    "            self.tags.append(np.zeros((self.dim[i], self.dim[i+1])))\n",
    "        \n",
    "    def fit(self, inputs, winners, epoc_t,dt, dt_minus, dt_plus, a_minus, a_plus, ts_thresh, iterations, learn_time): \n",
    "        time = 0\n",
    "        lt = learn_time\n",
    "        \n",
    "        for iteration in range(iterations):\n",
    "            rand = np.random.randint(0, inputs.shape[0]) \n",
    "            epoch = 0\n",
    "            \n",
    "            while epoch < epoc_t:\n",
    "                inp = inputs[rand]\n",
    "                for layer in range(len(self.neurons)):\n",
    "                    for i, neuron in enumerate(self.neurons[layer]):\n",
    "                        neuron.one_move(time ,inp[i])\n",
    "                    if layer != len(self.neurons) - 1:\n",
    "                        inp = self.activities(layer, time + dt, dt, ts_thresh)@self.connectins[layer]\n",
    "                flag = False\n",
    "                if time > lt:\n",
    "                    flag = True\n",
    "                    lt += learn_time\n",
    "                self.learn(winners, rand, time + dt, dt, dt_minus, dt_plus, a_minus, a_plus, learn_time, flag)\n",
    "                epoch += dt\n",
    "    \n",
    "    def learn(self, winners_list, idx, time, dt, dt_minus, dt_plus, a_minus, a_plus, learn_time, flag):\n",
    "        for layer in range(len(self.connectins)):\n",
    "            for i in range(len(self.neurons[layer])):\n",
    "                for j in range(len(self.neurons[layer + 1])):\n",
    "                    preN = self.neurons[layer][i]\n",
    "                    postN = self.neurons[layer][j]\n",
    "                    stdp = 0\n",
    "                    \n",
    "                    if preN.sike_count != 0 and postN.sike_count != 0 and postN.last_spike == time:\n",
    "                        dt = postN.last_spike - preN.last_spike\n",
    "                        if dt > 0:\n",
    "                            stdp += a_plus * math.exp(-(math.fabs(dt)/dt_plus))\n",
    "                        elif dt < 0:\n",
    "                            stdp += a_minus * math.exp(-(math.fabs(dt)/dt_minus))\n",
    "                    \n",
    "                    self.tags[layer][i, j] += dt * ((-self.tags[layer][i,j]/self.tau_t)+stdp)\n",
    "                    self.connectins[layer][i,j] += dt * self.tags[layer][i, j] * self.dopamine\n",
    "                    if self.connectins[layer][i,j] < 0:\n",
    "                       self.connectins[layer][i,j] = 0\n",
    "        reward = 0\n",
    "        \n",
    "        if flag:\n",
    "            actions = np.zeros_like(self.neurons[-1])\n",
    "            for i, neuron in enumerate(self.neurons[-1]):\n",
    "                amount = 0\n",
    "                for spike in neuron.spike:\n",
    "                    if time - spike > learn_time:\n",
    "                        amount += 1\n",
    "                actions[i] = amount\n",
    "            if np.argma(actions) == int(winners_list[idx]):\n",
    "                largest_ints = heapq.nlargest(2, list(actions))\n",
    "                if largest_ints[0] != 0 and(largest_ints[0] - largest_ints[1]) / largest_ints[0] > 0.1:\n",
    "                    reward += self.r_score\n",
    "                else:\n",
    "                    reward -= self.r_score\n",
    "            else:\n",
    "                reward -= r_score\n",
    "        self.dopamine += learn_time * ((-self.dopamine/self.tau_d +reward))\n",
    "        \n",
    "    def activities(self,layer, time, dt, ts_thresh): \n",
    "        activ_list = np.zeros(self.dim[layer])\n",
    "        for i in range(self.dim[layer]):\n",
    "            neuron = self.neurons[layer][i]\n",
    "            s = 0\n",
    "            activity = 0\n",
    "            while self.t_course(s) > ts_thresh:\n",
    "                if time - s in neuron.spikes:\n",
    "                    activity += self.t_course(s)\n",
    "                s += dt\n",
    "            activ_list[i] = activity\n",
    "        return activ_list\n",
    "    \n",
    "    \n",
    "    def predict(self,inputs, time, dt, ts_thresh):\n",
    "        resaults = np.zeros((len(inputs)))\n",
    "        for i in range(len(inputs)):\n",
    "            self.reset()\n",
    "            t = 0\n",
    "            while t < time:\n",
    "                input= inputs[i]\n",
    "                for layer in range(len(self.neurons)):\n",
    "                    for k, neuron in enumerate(self.neurons[layer]):\n",
    "                        neuron.one_move(t, input[k])\n",
    "                        if layer != len(self.neurons) - 1:\n",
    "                            inp = self.activities(layer, time + dt, dt, ts_thresh)@self.connectins[layer]\n",
    "                t += dt\n",
    "            print(f'{self.neurons[-1][0].sike_count}  {self.neurons[-1][1].sike_count} ')\n",
    "            if self.neurons[-1][0].sike_count > self.neurons[-1][1].sike_count:\n",
    "                resaults[i] = 0\n",
    "            else:\n",
    "                resaults[i] = 1\n",
    "\n",
    "        return resaults\n",
    "\n",
    "    def reset(self):\n",
    "        for layer in self.neurons:\n",
    "            for neuron in layer:\n",
    "                neuron.reset()\n",
    "    def t_course(self,s): \n",
    "        return 200 * (1/(8* math.sqrt(2 * math.pi))) * math.exp(-(s/8) ** 2)\n",
    "    \n",
    "        \n",
    "        "
   ]
  },
  {
   "cell_type": "code",
   "execution_count": 4,
   "id": "97068793",
   "metadata": {},
   "outputs": [],
   "source": [
    "dataset = pd.read_excel('./CN_3_DATASET.XLSX')"
   ]
  },
  {
   "cell_type": "code",
   "execution_count": 5,
   "id": "35d892a5",
   "metadata": {},
   "outputs": [],
   "source": [
    "train_inputs = dataset.iloc[1:6,1:].values.T * 1000\n",
    "train_outs = dataset.iloc[6, 1:].values\n",
    "test_inputs = dataset.iloc[10:15,1:].values.T * 1000\n",
    "test_outs = dataset.iloc[15, 1:].values"
   ]
  },
  {
   "cell_type": "code",
   "execution_count": 6,
   "id": "84345125",
   "metadata": {},
   "outputs": [],
   "source": [
    "dim = (5, 2)"
   ]
  },
  {
   "cell_type": "code",
   "execution_count": 7,
   "id": "03fd75cb",
   "metadata": {},
   "outputs": [],
   "source": [
    "layer1 = []\n",
    "for i in range(5):\n",
    "    layer1.append(LIF(dt = 0.125, u_rest = random.randint(-3, 3), R=random.randint(1, 4), C=random.randint(8, 12), threshold=random.randint(4, 8)))"
   ]
  },
  {
   "cell_type": "code",
   "execution_count": 8,
   "id": "27dd389f",
   "metadata": {},
   "outputs": [],
   "source": [
    "layer2 = []\n",
    "for i in range(2):\n",
    "    layer2.append(LIF(dt = 0.125, u_rest = random.randint(-3, 3), R=random.randint(1, 4), C=random.randint(8, 12), threshold=random.randint(5, 7)))"
   ]
  },
  {
   "cell_type": "code",
   "execution_count": 9,
   "id": "0a0cbd74",
   "metadata": {},
   "outputs": [],
   "source": [
    "neurons = [layer1, layer2]\n"
   ]
  },
  {
   "cell_type": "code",
   "execution_count": 10,
   "id": "92a0e132",
   "metadata": {},
   "outputs": [],
   "source": [
    "snn = SNN(dim, neurons, 15, 12, 7)"
   ]
  },
  {
   "cell_type": "code",
   "execution_count": 11,
   "id": "d7a0b15d",
   "metadata": {},
   "outputs": [],
   "source": [
    "snn.fit(train_inputs, train_outs, 5, 0.125, 7, 9, -4, 7, 1, 100, 0.5)"
   ]
  },
  {
   "cell_type": "code",
   "execution_count": 12,
   "id": "53aa7126",
   "metadata": {},
   "outputs": [
    {
     "name": "stdout",
     "output_type": "stream",
     "text": [
      "0  0 \n",
      "0  0 \n",
      "0  0 \n",
      "0  0 \n",
      "0  0 \n",
      "0  0 \n",
      "1  0 \n",
      "0  0 \n",
      "0  0 \n",
      "0  0 \n"
     ]
    }
   ],
   "source": [
    "a = snn.predict(test_inputs,100, 0.125, 1)"
   ]
  },
  {
   "cell_type": "code",
   "execution_count": 13,
   "id": "849f20e3",
   "metadata": {},
   "outputs": [
    {
     "name": "stdout",
     "output_type": "stream",
     "text": [
      "0.7\n",
      "[1. 1. 1. 1. 1. 1. 0. 1. 1. 1.]\n"
     ]
    }
   ],
   "source": [
    "\n",
    "count = 0\n",
    "for i, el in enumerate(a):\n",
    "    if el == test_outs[i]:\n",
    "        count +=1\n",
    "print(count/len(a))\n",
    "print(a)"
   ]
  },
  {
   "cell_type": "code",
   "execution_count": 14,
   "id": "818d9e99",
   "metadata": {},
   "outputs": [
    {
     "name": "stdout",
     "output_type": "stream",
     "text": [
      "0  0 \n",
      "0  0 \n",
      "1  0 \n",
      "0  0 \n",
      "0  0 \n",
      "0  0 \n",
      "0  0 \n",
      "0  0 \n",
      "0  0 \n",
      "0  0 \n"
     ]
    }
   ],
   "source": [
    "a = snn.predict(train_inputs,100, 0.125, 1)"
   ]
  },
  {
   "cell_type": "code",
   "execution_count": 15,
   "id": "9688022b",
   "metadata": {},
   "outputs": [
    {
     "name": "stdout",
     "output_type": "stream",
     "text": [
      "0.5\n",
      "[1. 1. 0. 1. 1. 1. 1. 1. 1. 1.]\n"
     ]
    }
   ],
   "source": [
    "count = 0\n",
    "for i, el in enumerate(a):\n",
    "    if el == train_outs[i]:\n",
    "        count +=1\n",
    "print(count/len(a))\n",
    "print(a)"
   ]
  },
  {
   "cell_type": "code",
   "execution_count": null,
   "id": "97e44b0f",
   "metadata": {},
   "outputs": [],
   "source": []
  },
  {
   "cell_type": "code",
   "execution_count": null,
   "id": "b2c3449a",
   "metadata": {},
   "outputs": [],
   "source": []
  }
 ],
 "metadata": {
  "kernelspec": {
   "display_name": "Python 3 (ipykernel)",
   "language": "python",
   "name": "python3"
  },
  "language_info": {
   "codemirror_mode": {
    "name": "ipython",
    "version": 3
   },
   "file_extension": ".py",
   "mimetype": "text/x-python",
   "name": "python",
   "nbconvert_exporter": "python",
   "pygments_lexer": "ipython3",
   "version": "3.9.7"
  }
 },
 "nbformat": 4,
 "nbformat_minor": 5
}
