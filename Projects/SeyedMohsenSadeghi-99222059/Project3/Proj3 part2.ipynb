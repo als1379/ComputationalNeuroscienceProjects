{
 "cells": [
  {
   "cell_type": "code",
   "execution_count": 1,
   "metadata": {
    "collapsed": true
   },
   "outputs": [],
   "source": [
    "import random\n",
    "\n",
    "from LIF import LIF2 as LIF\n",
    "from Part2 import SNN\n",
    "\n",
    "import pandas as pd"
   ]
  },
  {
   "cell_type": "code",
   "execution_count": 2,
   "outputs": [],
   "source": [
    "neurons = []\n",
    "layers = [5, 2]\n",
    "\n",
    "for i in layers:\n",
    "    layer = []\n",
    "    for _ in range(i):\n",
    "        layer.append(LIF(u_rest=random.randint(-85, -65), resistance=random.randint(1, 10), capacitance=random.randint(5, 8)/10, threshold=random.randint(-40, -35), u_reset=random.randint(-70, -65), u_start=random.randint(-75, -70)))\n",
    "    neurons.append(layer)"
   ],
   "metadata": {
    "collapsed": false,
    "pycharm": {
     "name": "#%%\n"
    }
   }
  },
  {
   "cell_type": "code",
   "execution_count": 3,
   "outputs": [
    {
     "name": "stdout",
     "output_type": "stream",
     "text": [
      "[[[1, 1], [1, 1], [1, 1], [1, 1], [1, 1]]]\n",
      "[[[0, 1], [0, 1], [0, 1], [0, 1], [0, 1]]]\n"
     ]
    }
   ],
   "source": [
    "layers = [5, 2]\n",
    "weight_table = []\n",
    "connections = []\n",
    "\n",
    "for i in range(len(layers) - 1):\n",
    "    layer = []\n",
    "    layer2 = []\n",
    "    for j in range(layers[i]):\n",
    "        neuron = []\n",
    "        neuron2 = []\n",
    "        for k in range(layers[i+1]):\n",
    "            neuron.append(1)\n",
    "            neuron2.append(k)\n",
    "        layer.append(neuron)\n",
    "        layer2.append(neuron2)\n",
    "    weight_table.append(layer)\n",
    "    connections.append(layer2)\n",
    "print(weight_table)\n",
    "print(connections)"
   ],
   "metadata": {
    "collapsed": false,
    "pycharm": {
     "name": "#%%\n"
    }
   }
  },
  {
   "cell_type": "code",
   "execution_count": 4,
   "outputs": [
    {
     "data": {
      "text/plain": "                    test Unnamed: 1 Unnamed: 2 Unnamed: 3 Unnamed: 4  \\\n0   inpput_neuron_number   train_1     train_2    train_3    train_4   \n1                    1.0        1.0        2.0        3.0        2.0   \n2                    2.0        1.0        1.0        1.0        0.0   \n3                    3.0        0.0        1.0        0.0        0.0   \n4                    4.0        0.0        0.0        0.0        0.0   \n5                    5.0        0.0        0.0        0.0        0.0   \n6   output_neuron_number        1.0        1.0        1.0        1.0   \n7                    NaN        NaN        NaN        NaN        NaN   \n8                   test        NaN        NaN        NaN        NaN   \n9   inpput_neuron_number   train_1     train_2    train_3    train_4   \n10                   1.0        1.0        0.0        0.0        2.0   \n11                   2.0        0.0        1.0        2.0        2.0   \n12                   3.0        0.0        0.0        0.0        1.0   \n13                   4.0        0.0        0.0        0.0        0.0   \n14                   5.0        0.0        0.0        0.0        0.0   \n15  output_neuron_number        1.0        1.0        1.0        1.0   \n\n   Unnamed: 5 Unnamed: 6 Unnamed: 7 Unnamed: 8 Unnamed: 9 Unnamed: 10  \n0     train_5    train_6    train_7    train_8    train_9    train_10  \n1         1.0        1.0        0.0        0.0        0.0         2.0  \n2         1.0        0.0        1.0        0.0        0.0         2.0  \n3         0.0        0.0        0.0        0.0        0.0         2.0  \n4         0.0        0.0        3.0        1.0        0.0         1.0  \n5         1.0        2.0        0.0        1.0        1.0         2.0  \n6         1.0        0.0        0.0        0.0        0.0         1.0  \n7         NaN        NaN        NaN        NaN        NaN         NaN  \n8         NaN        NaN        NaN        NaN        NaN         NaN  \n9     train_5    train_6    train_7    train_8    train_9    train_10  \n10        1.0        1.0        3.0        0.0        1.0         2.0  \n11        2.0        0.0        1.0        0.0        2.0         2.0  \n12        0.0        0.0        0.0        2.0        0.0         2.0  \n13        0.0        0.0        2.0        2.0        1.0         3.0  \n14        0.0        3.0        3.0        2.0        1.0         3.0  \n15        1.0        0.0        0.0        0.0        1.0         0.0  ",
      "text/html": "<div>\n<style scoped>\n    .dataframe tbody tr th:only-of-type {\n        vertical-align: middle;\n    }\n\n    .dataframe tbody tr th {\n        vertical-align: top;\n    }\n\n    .dataframe thead th {\n        text-align: right;\n    }\n</style>\n<table border=\"1\" class=\"dataframe\">\n  <thead>\n    <tr style=\"text-align: right;\">\n      <th></th>\n      <th>test</th>\n      <th>Unnamed: 1</th>\n      <th>Unnamed: 2</th>\n      <th>Unnamed: 3</th>\n      <th>Unnamed: 4</th>\n      <th>Unnamed: 5</th>\n      <th>Unnamed: 6</th>\n      <th>Unnamed: 7</th>\n      <th>Unnamed: 8</th>\n      <th>Unnamed: 9</th>\n      <th>Unnamed: 10</th>\n    </tr>\n  </thead>\n  <tbody>\n    <tr>\n      <th>0</th>\n      <td>inpput_neuron_number</td>\n      <td>train_1</td>\n      <td>train_2</td>\n      <td>train_3</td>\n      <td>train_4</td>\n      <td>train_5</td>\n      <td>train_6</td>\n      <td>train_7</td>\n      <td>train_8</td>\n      <td>train_9</td>\n      <td>train_10</td>\n    </tr>\n    <tr>\n      <th>1</th>\n      <td>1.0</td>\n      <td>1.0</td>\n      <td>2.0</td>\n      <td>3.0</td>\n      <td>2.0</td>\n      <td>1.0</td>\n      <td>1.0</td>\n      <td>0.0</td>\n      <td>0.0</td>\n      <td>0.0</td>\n      <td>2.0</td>\n    </tr>\n    <tr>\n      <th>2</th>\n      <td>2.0</td>\n      <td>1.0</td>\n      <td>1.0</td>\n      <td>1.0</td>\n      <td>0.0</td>\n      <td>1.0</td>\n      <td>0.0</td>\n      <td>1.0</td>\n      <td>0.0</td>\n      <td>0.0</td>\n      <td>2.0</td>\n    </tr>\n    <tr>\n      <th>3</th>\n      <td>3.0</td>\n      <td>0.0</td>\n      <td>1.0</td>\n      <td>0.0</td>\n      <td>0.0</td>\n      <td>0.0</td>\n      <td>0.0</td>\n      <td>0.0</td>\n      <td>0.0</td>\n      <td>0.0</td>\n      <td>2.0</td>\n    </tr>\n    <tr>\n      <th>4</th>\n      <td>4.0</td>\n      <td>0.0</td>\n      <td>0.0</td>\n      <td>0.0</td>\n      <td>0.0</td>\n      <td>0.0</td>\n      <td>0.0</td>\n      <td>3.0</td>\n      <td>1.0</td>\n      <td>0.0</td>\n      <td>1.0</td>\n    </tr>\n    <tr>\n      <th>5</th>\n      <td>5.0</td>\n      <td>0.0</td>\n      <td>0.0</td>\n      <td>0.0</td>\n      <td>0.0</td>\n      <td>1.0</td>\n      <td>2.0</td>\n      <td>0.0</td>\n      <td>1.0</td>\n      <td>1.0</td>\n      <td>2.0</td>\n    </tr>\n    <tr>\n      <th>6</th>\n      <td>output_neuron_number</td>\n      <td>1.0</td>\n      <td>1.0</td>\n      <td>1.0</td>\n      <td>1.0</td>\n      <td>1.0</td>\n      <td>0.0</td>\n      <td>0.0</td>\n      <td>0.0</td>\n      <td>0.0</td>\n      <td>1.0</td>\n    </tr>\n    <tr>\n      <th>7</th>\n      <td>NaN</td>\n      <td>NaN</td>\n      <td>NaN</td>\n      <td>NaN</td>\n      <td>NaN</td>\n      <td>NaN</td>\n      <td>NaN</td>\n      <td>NaN</td>\n      <td>NaN</td>\n      <td>NaN</td>\n      <td>NaN</td>\n    </tr>\n    <tr>\n      <th>8</th>\n      <td>test</td>\n      <td>NaN</td>\n      <td>NaN</td>\n      <td>NaN</td>\n      <td>NaN</td>\n      <td>NaN</td>\n      <td>NaN</td>\n      <td>NaN</td>\n      <td>NaN</td>\n      <td>NaN</td>\n      <td>NaN</td>\n    </tr>\n    <tr>\n      <th>9</th>\n      <td>inpput_neuron_number</td>\n      <td>train_1</td>\n      <td>train_2</td>\n      <td>train_3</td>\n      <td>train_4</td>\n      <td>train_5</td>\n      <td>train_6</td>\n      <td>train_7</td>\n      <td>train_8</td>\n      <td>train_9</td>\n      <td>train_10</td>\n    </tr>\n    <tr>\n      <th>10</th>\n      <td>1.0</td>\n      <td>1.0</td>\n      <td>0.0</td>\n      <td>0.0</td>\n      <td>2.0</td>\n      <td>1.0</td>\n      <td>1.0</td>\n      <td>3.0</td>\n      <td>0.0</td>\n      <td>1.0</td>\n      <td>2.0</td>\n    </tr>\n    <tr>\n      <th>11</th>\n      <td>2.0</td>\n      <td>0.0</td>\n      <td>1.0</td>\n      <td>2.0</td>\n      <td>2.0</td>\n      <td>2.0</td>\n      <td>0.0</td>\n      <td>1.0</td>\n      <td>0.0</td>\n      <td>2.0</td>\n      <td>2.0</td>\n    </tr>\n    <tr>\n      <th>12</th>\n      <td>3.0</td>\n      <td>0.0</td>\n      <td>0.0</td>\n      <td>0.0</td>\n      <td>1.0</td>\n      <td>0.0</td>\n      <td>0.0</td>\n      <td>0.0</td>\n      <td>2.0</td>\n      <td>0.0</td>\n      <td>2.0</td>\n    </tr>\n    <tr>\n      <th>13</th>\n      <td>4.0</td>\n      <td>0.0</td>\n      <td>0.0</td>\n      <td>0.0</td>\n      <td>0.0</td>\n      <td>0.0</td>\n      <td>0.0</td>\n      <td>2.0</td>\n      <td>2.0</td>\n      <td>1.0</td>\n      <td>3.0</td>\n    </tr>\n    <tr>\n      <th>14</th>\n      <td>5.0</td>\n      <td>0.0</td>\n      <td>0.0</td>\n      <td>0.0</td>\n      <td>0.0</td>\n      <td>0.0</td>\n      <td>3.0</td>\n      <td>3.0</td>\n      <td>2.0</td>\n      <td>1.0</td>\n      <td>3.0</td>\n    </tr>\n    <tr>\n      <th>15</th>\n      <td>output_neuron_number</td>\n      <td>1.0</td>\n      <td>1.0</td>\n      <td>1.0</td>\n      <td>1.0</td>\n      <td>1.0</td>\n      <td>0.0</td>\n      <td>0.0</td>\n      <td>0.0</td>\n      <td>1.0</td>\n      <td>0.0</td>\n    </tr>\n  </tbody>\n</table>\n</div>"
     },
     "execution_count": 4,
     "metadata": {},
     "output_type": "execute_result"
    }
   ],
   "source": [
    "dataset = pd.read_excel('./CN_3_DATASET.xlsx')\n",
    "x_train = dataset.iloc[1:6,1:].values.T * 10000\n",
    "y_train = dataset.iloc[6,1:].values\n",
    "x_test = dataset.iloc[10:15,1:].values.T * 10000\n",
    "y_test = dataset.iloc[15,1:].values\n",
    "dataset"
   ],
   "metadata": {
    "collapsed": false,
    "pycharm": {
     "name": "#%%\n"
    }
   }
  },
  {
   "cell_type": "code",
   "execution_count": 5,
   "outputs": [],
   "source": [
    "model = SNN(network_dim=(5,2), neurons=neurons, tau_tag=15, tau_dopamine=12, reward_score=7)"
   ],
   "metadata": {
    "collapsed": false,
    "pycharm": {
     "name": "#%%\n"
    }
   }
  },
  {
   "cell_type": "code",
   "execution_count": 6,
   "outputs": [],
   "source": [
    "model.fit(x=x_train, y=y_train, dt=0.1, epoch_time=5, dt_minus=7, dt_plus=9, a_minus=-4, a_plus=+7, time_course_threshold=1, iterations=100, learn_time=0.5)"
   ],
   "metadata": {
    "collapsed": false,
    "pycharm": {
     "name": "#%%\n"
    }
   }
  },
  {
   "cell_type": "code",
   "execution_count": 7,
   "outputs": [
    {
     "name": "stdout",
     "output_type": "stream",
     "text": [
      "[1. 1. 1. 1. 1. 1. 0. 0. 1. 0.]\n"
     ]
    }
   ],
   "source": [
    "a = model.predict(x_train, 100, 0.1, time_course_threshold=1)\n",
    "print(a)"
   ],
   "metadata": {
    "collapsed": false,
    "pycharm": {
     "name": "#%%\n"
    }
   }
  },
  {
   "cell_type": "code",
   "execution_count": 8,
   "outputs": [
    {
     "name": "stdout",
     "output_type": "stream",
     "text": [
      "0.7\n"
     ]
    }
   ],
   "source": [
    "count = 0\n",
    "for i, el in enumerate(a):\n",
    "    if el == y_train[i]:\n",
    "        count +=1\n",
    "print(count / len(a))"
   ],
   "metadata": {
    "collapsed": false,
    "pycharm": {
     "name": "#%%\n"
    }
   }
  },
  {
   "cell_type": "code",
   "execution_count": 9,
   "outputs": [],
   "source": [
    "a = model.predict(x_test, 100, 0.1, time_course_threshold=1)"
   ],
   "metadata": {
    "collapsed": false,
    "pycharm": {
     "name": "#%%\n"
    }
   }
  },
  {
   "cell_type": "code",
   "execution_count": 10,
   "outputs": [
    {
     "name": "stdout",
     "output_type": "stream",
     "text": [
      "0.8\n"
     ]
    }
   ],
   "source": [
    "count = 0\n",
    "for i, el in enumerate(a):\n",
    "    if el == y_test[i]:\n",
    "        count +=1\n",
    "print(count / len(a))"
   ],
   "metadata": {
    "collapsed": false,
    "pycharm": {
     "name": "#%%\n"
    }
   }
  },
  {
   "cell_type": "code",
   "execution_count": 11,
   "outputs": [
    {
     "name": "stdout",
     "output_type": "stream",
     "text": [
      "[1. 1. 1. 1. 1. 1. 0. 0. 0. 0.]\n",
      "[1.0 1.0 1.0 1.0 1.0 0.0 0.0 0.0 1.0 0.0]\n"
     ]
    }
   ],
   "source": [
    "print(a)\n",
    "print(y_test)"
   ],
   "metadata": {
    "collapsed": false,
    "pycharm": {
     "name": "#%%\n"
    }
   }
  }
 ],
 "metadata": {
  "kernelspec": {
   "display_name": "Python 3",
   "language": "python",
   "name": "python3"
  },
  "language_info": {
   "codemirror_mode": {
    "name": "ipython",
    "version": 2
   },
   "file_extension": ".py",
   "mimetype": "text/x-python",
   "name": "python",
   "nbconvert_exporter": "python",
   "pygments_lexer": "ipython2",
   "version": "2.7.6"
  }
 },
 "nbformat": 4,
 "nbformat_minor": 0
}