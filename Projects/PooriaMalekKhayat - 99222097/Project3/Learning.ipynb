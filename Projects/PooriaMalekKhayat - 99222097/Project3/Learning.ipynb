{
 "cells": [
  {
   "cell_type": "code",
   "execution_count": 2,
   "id": "22642271",
   "metadata": {},
   "outputs": [],
   "source": [
    "import matplotlib.pyplot as plt    \n",
    "import numpy as np                 \n",
    "import time      \n",
    "import math       \n",
    "import random"
   ]
  },
  {
   "cell_type": "code",
   "execution_count": 3,
   "id": "72294078",
   "metadata": {},
   "outputs": [],
   "source": [
    "class LIF():\n",
    "    def __init__(self, I, T=100, dt=0.1, neuron_type=1,\n",
    "    V_th=-45, V_rest=-70, V_init=-80, V_reset=-65, V_spike=5, g_L=10, tau_m=20, delta_T=1, theta_r_h=-55, a=0.01, b=0.5, tau_w=1):\n",
    "\n",
    "        self.neuron_type = neuron_type\n",
    "        self.v_t = []\n",
    "        self.fire_count = 0\n",
    "        self.v = V_init\n",
    "        self.V_init= V_init \n",
    "        self.V_th = V_th \n",
    "        self.V_rest = V_rest \n",
    "        self.V_reset = V_reset\n",
    "        self.V_spike = V_spike\n",
    "        self.g_L = g_L \n",
    "        self.tau_m = tau_m \n",
    "        self.tau_w = tau_w\n",
    "        self.I = I\n",
    "        self.T = T \n",
    "        self.dt = dt\n",
    "\n",
    "    def start(self):\n",
    "        t = 0\n",
    "        while t <= self.T:\n",
    "            dv = (-(self.v - self.V_rest) + self.I(t) * self.g_L)* (self.dt/self.tau_m)\n",
    "\n",
    "            self.v += dv * self.dt\n",
    "            if self.neuron_type == -1:\n",
    "                print(self.v)\n",
    "            is_spike = False\n",
    "            if self.v >= self.V_th:\n",
    "                self.v_t.append(self.v + self.V_spike)\n",
    "                self.fire_count += 1\n",
    "                self.v = self.V_reset\n",
    "                is_spike = True\n",
    "            else:\n",
    "                self.v_t.append(self.v)\n",
    "\n",
    "            t += self.dt\n",
    "\n",
    "            yield {'u': self.v, 'is_spike': is_spike}\n",
    "\n",
    "    def v_t_plot(self):\n",
    "        plt.plot(list(map(lambda i: i * self.dt, range(len(self.v_t)))), self.v_t)\n",
    "        plt.show()\n",
    "        self.a"
   ]
  },
  {
   "cell_type": "code",
   "execution_count": 4,
   "id": "a51e35d7",
   "metadata": {},
   "outputs": [],
   "source": [
    "class STDP:\n",
    "    def __init__(self, neurons, connections, weights, delay=1, iterations=1000):\n",
    "        self.neurons = neurons\n",
    "        self.neuron_action = []\n",
    "        for lif in neurons:\n",
    "            self.neuron_action.append(lif.start())\n",
    "        self.connections = connections\n",
    "        self.weights = weights\n",
    "        self.iterations = iterations\n",
    "        self.spikes = []\n",
    "        self.spikes_time = []\n",
    "        self.delay = delay\n",
    "        self.spikes_effect = []\n",
    "        self.time_range = []\n",
    "        self.w_t = [[0] * self.iterations for _ in range(len(connections))]\n",
    "        \n",
    "    def start(self):\n",
    "        self.spikes_effect = [[0] * len(self.neurons) for _ in range(self.iterations)]\n",
    "        for t in range(self.iterations):\n",
    "            self.time_range.append(t)\n",
    "            \n",
    "            for i in range(len(self.neuron_action)):\n",
    "                action_info = next(self.neuron_action[i])\n",
    "                if action_info['is_spike']:\n",
    "                    self.spikes.append(i+1)\n",
    "                    self.spikes_time.append(t)\n",
    "                    idx = 0\n",
    "                    \n",
    "                    for connection in self.connections:\n",
    "                        if connection[0] == i+1:\n",
    "                            if t+self.delay < self.iterations:\n",
    "                                self.spikes_effect[t + self.delay][connection[1]-1] += self.weights[idx]\n",
    "\n",
    "                            spike_idx = len(self.spikes)-1\n",
    "                            for spike in reversed(self.spikes):\n",
    "                                if spike == connection[1]:\n",
    "                                    t_post_minus_t_pre = self.spikes_time[spike_idx] - t\n",
    "                                    self.weights[idx] = self.weights[idx] + 25*math.exp(-abs(t_post_minus_t_pre)/5)\n",
    "                                    break\n",
    "                                spike_idx -= 1\n",
    "\n",
    "                        elif connection[1] == i+1:\n",
    "                            for spike in reversed(self.spikes):\n",
    "                                if spike == connection[0]:\n",
    "                                    t_post_minus_t_pre = t - self.spikes_time[spike_idx]\n",
    "                                    self.weights[idx] = self.weights[idx] - 25*math.exp(-abs(t_post_minus_t_pre)/5)\n",
    "                                    break\n",
    "                        idx += 1\n",
    "\n",
    "                connection_idx = 0\n",
    "                for weight in self.weights:\n",
    "                    self.w_t[connection_idx][t] = self.weights[connection_idx]\n",
    "                    connection_idx += 1\n",
    "\n",
    "            for i in range(len(self.neurons)):\n",
    "                self.neurons[i].v += self.spikes_effect[t][i]\n",
    "        print(self.weights)\n",
    "      \n",
    "    def u_plot(self):\n",
    "        legend = []\n",
    "        for i in range(len(self.neurons)):\n",
    "            plt.plot(list(map(lambda j: j * self.neurons[i].dt, range(len(self.neurons[i].v_t)))), self.neurons[i].v_t)\n",
    "            legend.append('Neuron ' + str(i+1))\n",
    "        plt.legend(legend)\n",
    "        \n",
    "    def scatter_plot(self):\n",
    "        plt.scatter(self.spikes_time, self.spikes, color='green', s=5)\n",
    "        \n",
    "    def wt_plot(self, pre, post):\n",
    "        i = 0\n",
    "        for connection in self.connections:\n",
    "            if connection[0] == pre and connection[1] == post:\n",
    "                break\n",
    "            i += 1\n",
    "        plt.plot(self.time_range, self.w_t[i], color='green')"
   ]
  },
  {
   "cell_type": "code",
   "execution_count": 5,
   "id": "80cd658d",
   "metadata": {},
   "outputs": [],
   "source": [
    "plt.style.use(['dark_background'])"
   ]
  },
  {
   "cell_type": "code",
   "execution_count": 6,
   "id": "d907cfb6",
   "metadata": {},
   "outputs": [],
   "source": [
    "I1 = lambda x: 60\n",
    "I2 = lambda x: 20\n",
    "I3 = lambda x: 40\n",
    "neuron1 = LIF(I=I1)\n",
    "neuron2 = LIF(I=I2)\n",
    "neuron3 = LIF(I=I3)\n",
    "\n",
    "neurons = [neuron1, neuron2, neuron3]\n",
    "connections = [(1, 2), (1, 3), (2, 1), (2, 3), (3, 1), (3, 2)]\n",
    "weights = [5, 5, 5, 5, 5, 5]"
   ]
  },
  {
   "cell_type": "code",
   "execution_count": 7,
   "id": "0283865d",
   "metadata": {},
   "outputs": [
    {
     "name": "stdout",
     "output_type": "stream",
     "text": [
      "[1681.4980615987085, -19.316886150578593, 1715.8641925469694, 5.000760812076495, 4.344730529274715, 4.999239187923505]\n"
     ]
    }
   ],
   "source": [
    "stdp = STDP(neurons, connections, weights)\n",
    "stdp.start()"
   ]
  },
  {
   "cell_type": "code",
   "execution_count": 8,
   "id": "e0c5481f",
   "metadata": {},
   "outputs": [
    {
     "data": {
      "image/png": "[encoded data removed]",
      "text/plain": [
       "<Figure size 432x288 with 1 Axes>"
      ]
     },
     "metadata": {},
     "output_type": "display_data"
    }
   ],
   "source": [
    "stdp.u_plot()"
   ]
  },
  {
   "cell_type": "code",
   "execution_count": 9,
   "id": "359857f7",
   "metadata": {},
   "outputs": [
    {
     "data": {
      "image/png": "[encoded data removed]",
      "text/plain": [
       "<Figure size 432x288 with 1 Axes>"
      ]
     },
     "metadata": {},
     "output_type": "display_data"
    }
   ],
   "source": [
    "stdp.wt_plot(2, 3)"
   ]
  },
  {
   "cell_type": "code",
   "execution_count": 10,
   "id": "d22b1e2c",
   "metadata": {},
   "outputs": [
    {
     "data": {
      "image/png": "[encoded data removed]",
      "text/plain": [
       "<Figure size 432x288 with 1 Axes>"
      ]
     },
     "metadata": {},
     "output_type": "display_data"
    }
   ],
   "source": [
    "stdp.wt_plot(1, 3)"
   ]
  },
  {
   "cell_type": "code",
   "execution_count": 11,
   "id": "8ad6d79f",
   "metadata": {},
   "outputs": [
    {
     "data": {
      "image/png": "[encoded data removed]",
      "text/plain": [
       "<Figure size 432x288 with 1 Axes>"
      ]
     },
     "metadata": {},
     "output_type": "display_data"
    }
   ],
   "source": [
    "stdp.wt_plot(1, 2)"
   ]
  },
  {
   "cell_type": "code",
   "execution_count": 12,
   "id": "664a1297",
   "metadata": {},
   "outputs": [
    {
     "data": {
      "image/png": "[encoded data removed]",
      "text/plain": [
       "<Figure size 432x288 with 1 Axes>"
      ]
     },
     "metadata": {},
     "output_type": "display_data"
    }
   ],
   "source": [
    "stdp.wt_plot(3, 1)"
   ]
  },
  {
   "cell_type": "code",
   "execution_count": 13,
   "id": "5d5624fe",
   "metadata": {},
   "outputs": [
    {
     "data": {
      "image/png": "[encoded data removed]",
      "text/plain": [
       "<Figure size 432x288 with 1 Axes>"
      ]
     },
     "metadata": {},
     "output_type": "display_data"
    }
   ],
   "source": [
    "stdp.scatter_plot()"
   ]
  },
  {
   "cell_type": "code",
   "execution_count": 14,
   "id": "88d02db0",
   "metadata": {},
   "outputs": [],
   "source": [
    "I1 = lambda x: 20 * (math.sin(x/10) + 0.6)\n",
    "I2 = lambda x: 30 * (math.sin(x/10) + 0.3)\n",
    "I3 = lambda x: 40 * (math.cos(x/10) + 0.9)\n",
    "neuron1 = LIF(I=I1)\n",
    "neuron2 = LIF(I=I2)\n",
    "neuron3 = LIF(I=I3)\n",
    "\n",
    "neurons = [neuron1, neuron2, neuron3]\n",
    "connections = [(1, 2), (1, 3), (2, 1), (2, 3), (3, 1), (3, 2)]\n",
    "weights = [5, 5, 5, 5, 5, 5]"
   ]
  },
  {
   "cell_type": "code",
   "execution_count": 15,
   "id": "db2ab37b",
   "metadata": {},
   "outputs": [
    {
     "name": "stdout",
     "output_type": "stream",
     "text": [
      "[18.613892092461434, 27.282778370512837, 2896.48453828127, 30.986161024614013, 2890.9597472985497, 2870.7723669462302]\n"
     ]
    }
   ],
   "source": [
    "stdp = STDP(neurons, connections, weights)\n",
    "stdp.start()"
   ]
  },
  {
   "cell_type": "code",
   "execution_count": 16,
   "id": "fa52e79d",
   "metadata": {},
   "outputs": [
    {
     "data": {
      "image/png": "[encoded data removed]",
      "text/plain": [
       "<Figure size 432x288 with 1 Axes>"
      ]
     },
     "metadata": {},
     "output_type": "display_data"
    }
   ],
   "source": [
    "stdp.u_plot()"
   ]
  },
  {
   "cell_type": "code",
   "execution_count": 17,
   "id": "03812318",
   "metadata": {},
   "outputs": [
    {
     "data": {
      "image/png": "[encoded data removed]",
      "text/plain": [
       "<Figure size 432x288 with 1 Axes>"
      ]
     },
     "metadata": {},
     "output_type": "display_data"
    }
   ],
   "source": [
    "stdp.wt_plot(1, 2)"
   ]
  },
  {
   "cell_type": "code",
   "execution_count": 18,
   "id": "1bb0a250",
   "metadata": {},
   "outputs": [
    {
     "data": {
      "image/png": "[encoded data removed]",
      "text/plain": [
       "<Figure size 432x288 with 1 Axes>"
      ]
     },
     "metadata": {},
     "output_type": "display_data"
    }
   ],
   "source": [
    "stdp.wt_plot(1, 3)"
   ]
  },
  {
   "cell_type": "code",
   "execution_count": 19,
   "id": "70667f64",
   "metadata": {},
   "outputs": [
    {
     "data": {
      "image/png": "[encoded data removed]",
      "text/plain": [
       "<Figure size 432x288 with 1 Axes>"
      ]
     },
     "metadata": {},
     "output_type": "display_data"
    }
   ],
   "source": [
    "stdp.wt_plot(2, 1)"
   ]
  },
  {
   "cell_type": "code",
   "execution_count": 20,
   "id": "a739a76d",
   "metadata": {},
   "outputs": [
    {
     "data": {
      "image/png": "[encoded data removed]",
      "text/plain": [
       "<Figure size 432x288 with 1 Axes>"
      ]
     },
     "metadata": {},
     "output_type": "display_data"
    }
   ],
   "source": [
    "stdp.wt_plot(3, 1)"
   ]
  },
  {
   "cell_type": "code",
   "execution_count": 21,
   "id": "5fd87976",
   "metadata": {},
   "outputs": [
    {
     "data": {
      "image/png": "[encoded data removed]",
      "text/plain": [
       "<Figure size 432x288 with 1 Axes>"
      ]
     },
     "metadata": {},
     "output_type": "display_data"
    }
   ],
   "source": [
    "stdp.scatter_plot()"
   ]
  },
  {
   "cell_type": "code",
   "execution_count": 22,
   "id": "a8010678",
   "metadata": {},
   "outputs": [],
   "source": [
    "I1 = lambda x: 5 * x\n",
    "I2 = lambda x: 3 * x\n",
    "I3 = lambda x: 2 * x\n",
    "neuron1 = LIF(I=I1)\n",
    "neuron2 = LIF(I=I2)\n",
    "neuron3 = LIF(I=I3)\n",
    "\n",
    "neurons = [neuron1, neuron2, neuron3]\n",
    "connections = [(1, 2), (1, 3), (2, 1), (2, 3), (3, 1), (3, 2)]\n",
    "weights = [5, 5, 5, 5, 5, 5]"
   ]
  },
  {
   "cell_type": "code",
   "execution_count": 23,
   "id": "8d06ca3e",
   "metadata": {},
   "outputs": [
    {
     "name": "stdout",
     "output_type": "stream",
     "text": [
      "[1528.187307396355, -19.88693140606008, 1530.4105238035152, -19.999999996172452, 21.644932556951062, 16.23322409910299]\n"
     ]
    }
   ],
   "source": [
    "stdp = STDP(neurons, connections, weights)\n",
    "stdp.start()"
   ]
  },
  {
   "cell_type": "code",
   "execution_count": 24,
   "id": "bd085b7d",
   "metadata": {},
   "outputs": [
    {
     "data": {
      "image/png": "[encoded data removed]",
      "text/plain": [
       "<Figure size 432x288 with 1 Axes>"
      ]
     },
     "metadata": {},
     "output_type": "display_data"
    }
   ],
   "source": [
    "stdp.u_plot()"
   ]
  },
  {
   "cell_type": "code",
   "execution_count": 25,
   "id": "6742510f",
   "metadata": {},
   "outputs": [
    {
     "data": {
      "image/png": "[encoded data removed]",
      "text/plain": [
       "<Figure size 432x288 with 1 Axes>"
      ]
     },
     "metadata": {},
     "output_type": "display_data"
    }
   ],
   "source": [
    "stdp.wt_plot(1, 2)"
   ]
  },
  {
   "cell_type": "code",
   "execution_count": 26,
   "id": "9bdd8aa0",
   "metadata": {},
   "outputs": [
    {
     "data": {
      "image/png": "[encoded data removed]",
      "text/plain": [
       "<Figure size 432x288 with 1 Axes>"
      ]
     },
     "metadata": {},
     "output_type": "display_data"
    }
   ],
   "source": [
    "stdp.wt_plot(2, 1)"
   ]
  },
  {
   "cell_type": "code",
   "execution_count": 27,
   "id": "fe8f87a5",
   "metadata": {},
   "outputs": [
    {
     "data": {
      "image/png": "[encoded data removed]",
      "text/plain": [
       "<Figure size 432x288 with 1 Axes>"
      ]
     },
     "metadata": {},
     "output_type": "display_data"
    }
   ],
   "source": [
    "stdp.wt_plot(3, 1)"
   ]
  },
  {
   "cell_type": "code",
   "execution_count": 28,
   "id": "25f70685",
   "metadata": {},
   "outputs": [
    {
     "data": {
      "image/png": "[encoded data removed]",
      "text/plain": [
       "<Figure size 432x288 with 1 Axes>"
      ]
     },
     "metadata": {},
     "output_type": "display_data"
    }
   ],
   "source": [
    "stdp.wt_plot(2, 3)"
   ]
  },
  {
   "cell_type": "code",
   "execution_count": 29,
   "id": "b4671e99",
   "metadata": {},
   "outputs": [
    {
     "data": {
      "image/png": "[encoded data removed]",
      "text/plain": [
       "<Figure size 432x288 with 1 Axes>"
      ]
     },
     "metadata": {},
     "output_type": "display_data"
    }
   ],
   "source": [
    "stdp.scatter_plot()"
   ]
  },
  {
   "cell_type": "code",
   "execution_count": 30,
   "id": "947847e4",
   "metadata": {},
   "outputs": [],
   "source": [
    "class RSTDP:\n",
    "    def __init__(self, neurons, connections, weights ,output_layer, target_neuron, mode='train', delay=1, iterations=1000):\n",
    "        self.neurons = neurons\n",
    "        self.mode = mode\n",
    "        self.output_layer = output_layer\n",
    "        self.target_neuron = target_neuron\n",
    "        self.neroun_action = []\n",
    "        for i in neurons:\n",
    "            self.neroun_action.append(i.start())\n",
    "\n",
    "        self.connections = connections\n",
    "        self.weights = weights\n",
    "        self.iterations = iterations\n",
    "        self.spikes = []\n",
    "        self.spikes_time = []\n",
    "        self.delay = delay\n",
    "        self.spikes_effect = []\n",
    "        self.time_range = []\n",
    "        self.w_t = [[0] * self.iterations for _ in range(len(connections))]\n",
    "    \n",
    "    def start(self):\n",
    "        self.spikes_effect = [[0] * len(self.neurons) for _ in range(self.iterations)]\n",
    "        for t in range(self.iterations):\n",
    "            self.time_range.append(t)\n",
    "      \n",
    "            for i in range(len(self.neroun_action)):\n",
    "                action_info = next(self.neroun_action[i])\n",
    "                if action_info['is_spike']:\n",
    "                    if i+1 in self.output_layer:\n",
    "                        if self.mode == 'train':\n",
    "                            if i+1 == self.target_neuron:\n",
    "                                DA = 10\n",
    "                            else:\n",
    "                                DA = 1/2\n",
    "                            connection_idx = 0\n",
    "                            for weight in self.weights:\n",
    "                                self.weights[connection_idx] *= DA\n",
    "                                connection_idx += 1\n",
    "                        if self.mode == 'test':\n",
    "                            return self.weights, t, i+1 == self.target_neuron\n",
    "                    self.spikes.append(i + 1)\n",
    "                    self.spikes_time.append(t)\n",
    "                    idx = 0\n",
    "                    for connection in self.connections:\n",
    "                        if connection[0] == i+1:                            \n",
    "                            if t+self.delay < self.iterations:\n",
    "                                self.spikes_effect[t + self.delay][connection[1]-1] += self.weights[idx]\n",
    "                            if self.mode == 'train':\n",
    "                                spike_idx = len(self.spikes)-1\n",
    "                                for spike in reversed(self.spikes):\n",
    "                                    if spike == connection[1]:\n",
    "                                        t_post_minus_t_pre = self.spikes_time[spike_idx] - t\n",
    "                                        self.weights[idx] = self.weights[idx] + 25*math.exp(-abs(t_post_minus_t_pre)/5)\n",
    "                                        break\n",
    "                                    spike_idx -= 1\n",
    "                        elif connection[1] == i+1:\n",
    "                            if self.mode == 'train':\n",
    "                                for spike in reversed(self.spikes):\n",
    "                                    if spike == connection[0]:\n",
    "                                        t_post_minus_t_pre = t - self.spikes_time[spike_idx]\n",
    "                                        self.weights[idx] = self.weights[idx] - 25*math.exp(-abs(t_post_minus_t_pre)/5)\n",
    "                                        break\n",
    "                        idx += 1\n",
    "                connection_idx = 0\n",
    "                for weight in self.weights:\n",
    "                    self.w_t[connection_idx][t] = self.weights[connection_idx]\n",
    "                    connection_idx += 1\n",
    "\n",
    "            for i in range(len(self.neurons)):\n",
    "                self.neurons[i].v += self.spikes_effect[t][i]\n",
    "\n",
    "        if self.mode == 'train':\n",
    "            return self.weights, self.iterations\n",
    "        else: \n",
    "            return self.weights, self.iterations, False"
   ]
  },
  {
   "cell_type": "code",
   "execution_count": 31,
   "id": "b6b9b43a",
   "metadata": {},
   "outputs": [],
   "source": [
    "def train(step_number, input_currents, target_neuron, weights):\n",
    "    neurons = []\n",
    "\n",
    "    for iterator in range(5):\n",
    "        neurons.append(LIF(I=lambda x: input_currents[iterator]*10))\n",
    "    for iterator in range(2):\n",
    "        neurons.append(LIF(I=lambda x: 0))\n",
    "\n",
    "    connections =  [(1, 6), (1, 7), (2, 6), (2, 7), (3, 6), (3, 7), (4, 6), (4, 7), (5, 6), (5, 7)]\n",
    "    if step_number == 1:\n",
    "        weights = [20, 20, 20, 20, 20, 20, 20, 20, 20, 20]\n",
    "    rstdp = RSTDP(neurons, connections, weights, output_layer = [6,7], target_neuron = target_neuron + 6, mode='train')\n",
    "    weights, ending_iteration = rstdp.start()\n",
    "    print(ending_iteration)\n",
    "    return weights\n",
    "\n",
    "def test(input_currents, target_neuron, weights):\n",
    "    neurons = []\n",
    "\n",
    "    for iterator in range(5):\n",
    "        neurons.append(LIF(I=lambda x: input_currents[iterator]*10))\n",
    "    for iterator in range(2):\n",
    "        neurons.append(LIF(I=lambda x: 0))\n",
    "\n",
    "    connections = [(1, 6), (1, 7), (2, 6), (2, 7), (3, 6), (3, 7), (4, 6), (4, 7), (5, 6), (5, 7)]\n",
    "\n",
    "    rstdp = RSTDP(neurons, connections, weights, output_layer = [6,7], target_neuron = target_neuron + 6, mode='test')\n",
    "    weights, ending_iteration, last_spike = rstdp.start()\n",
    "    print(ending_iteration)\n",
    "    print(last_spike)\n",
    "    return weights"
   ]
  },
  {
   "cell_type": "code",
   "execution_count": 32,
   "id": "9ba8d12a",
   "metadata": {},
   "outputs": [
    {
     "data": {
      "text/html": [
       "<div>\n",
       "<style scoped>\n",
       "    .dataframe tbody tr th:only-of-type {\n",
       "        vertical-align: middle;\n",
       "    }\n",
       "\n",
       "    .dataframe tbody tr th {\n",
       "        vertical-align: top;\n",
       "    }\n",
       "\n",
       "    .dataframe thead th {\n",
       "        text-align: right;\n",
       "    }\n",
       "</style>\n",
       "<table border=\"1\" class=\"dataframe\">\n",
       "  <thead>\n",
       "    <tr style=\"text-align: right;\">\n",
       "      <th></th>\n",
       "      <th>test</th>\n",
       "      <th>Unnamed: 1</th>\n",
       "      <th>Unnamed: 2</th>\n",
       "      <th>Unnamed: 3</th>\n",
       "      <th>Unnamed: 4</th>\n",
       "      <th>Unnamed: 5</th>\n",
       "      <th>Unnamed: 6</th>\n",
       "      <th>Unnamed: 7</th>\n",
       "      <th>Unnamed: 8</th>\n",
       "      <th>Unnamed: 9</th>\n",
       "      <th>Unnamed: 10</th>\n",
       "    </tr>\n",
       "  </thead>\n",
       "  <tbody>\n",
       "    <tr>\n",
       "      <th>0</th>\n",
       "      <td>inpput_neuron_number</td>\n",
       "      <td>train_1</td>\n",
       "      <td>train_2</td>\n",
       "      <td>train_3</td>\n",
       "      <td>train_4</td>\n",
       "      <td>train_5</td>\n",
       "      <td>train_6</td>\n",
       "      <td>train_7</td>\n",
       "      <td>train_8</td>\n",
       "      <td>train_9</td>\n",
       "      <td>train_10</td>\n",
       "    </tr>\n",
       "    <tr>\n",
       "      <th>1</th>\n",
       "      <td>1.0</td>\n",
       "      <td>1.0</td>\n",
       "      <td>2.0</td>\n",
       "      <td>3.0</td>\n",
       "      <td>2.0</td>\n",
       "      <td>1.0</td>\n",
       "      <td>1.0</td>\n",
       "      <td>0.0</td>\n",
       "      <td>0.0</td>\n",
       "      <td>0.0</td>\n",
       "      <td>2.0</td>\n",
       "    </tr>\n",
       "    <tr>\n",
       "      <th>2</th>\n",
       "      <td>2.0</td>\n",
       "      <td>1.0</td>\n",
       "      <td>1.0</td>\n",
       "      <td>1.0</td>\n",
       "      <td>0.0</td>\n",
       "      <td>1.0</td>\n",
       "      <td>0.0</td>\n",
       "      <td>1.0</td>\n",
       "      <td>0.0</td>\n",
       "      <td>0.0</td>\n",
       "      <td>2.0</td>\n",
       "    </tr>\n",
       "    <tr>\n",
       "      <th>3</th>\n",
       "      <td>3.0</td>\n",
       "      <td>0.0</td>\n",
       "      <td>1.0</td>\n",
       "      <td>0.0</td>\n",
       "      <td>0.0</td>\n",
       "      <td>0.0</td>\n",
       "      <td>0.0</td>\n",
       "      <td>0.0</td>\n",
       "      <td>0.0</td>\n",
       "      <td>0.0</td>\n",
       "      <td>2.0</td>\n",
       "    </tr>\n",
       "    <tr>\n",
       "      <th>4</th>\n",
       "      <td>4.0</td>\n",
       "      <td>0.0</td>\n",
       "      <td>0.0</td>\n",
       "      <td>0.0</td>\n",
       "      <td>0.0</td>\n",
       "      <td>0.0</td>\n",
       "      <td>0.0</td>\n",
       "      <td>3.0</td>\n",
       "      <td>1.0</td>\n",
       "      <td>0.0</td>\n",
       "      <td>1.0</td>\n",
       "    </tr>\n",
       "    <tr>\n",
       "      <th>5</th>\n",
       "      <td>5.0</td>\n",
       "      <td>0.0</td>\n",
       "      <td>0.0</td>\n",
       "      <td>0.0</td>\n",
       "      <td>0.0</td>\n",
       "      <td>1.0</td>\n",
       "      <td>2.0</td>\n",
       "      <td>0.0</td>\n",
       "      <td>1.0</td>\n",
       "      <td>1.0</td>\n",
       "      <td>2.0</td>\n",
       "    </tr>\n",
       "    <tr>\n",
       "      <th>6</th>\n",
       "      <td>output_neuron_number</td>\n",
       "      <td>1.0</td>\n",
       "      <td>1.0</td>\n",
       "      <td>1.0</td>\n",
       "      <td>1.0</td>\n",
       "      <td>1.0</td>\n",
       "      <td>0.0</td>\n",
       "      <td>0.0</td>\n",
       "      <td>0.0</td>\n",
       "      <td>0.0</td>\n",
       "      <td>1.0</td>\n",
       "    </tr>\n",
       "    <tr>\n",
       "      <th>7</th>\n",
       "      <td>NaN</td>\n",
       "      <td>NaN</td>\n",
       "      <td>NaN</td>\n",
       "      <td>NaN</td>\n",
       "      <td>NaN</td>\n",
       "      <td>NaN</td>\n",
       "      <td>NaN</td>\n",
       "      <td>NaN</td>\n",
       "      <td>NaN</td>\n",
       "      <td>NaN</td>\n",
       "      <td>NaN</td>\n",
       "    </tr>\n",
       "    <tr>\n",
       "      <th>8</th>\n",
       "      <td>test</td>\n",
       "      <td>NaN</td>\n",
       "      <td>NaN</td>\n",
       "      <td>NaN</td>\n",
       "      <td>NaN</td>\n",
       "      <td>NaN</td>\n",
       "      <td>NaN</td>\n",
       "      <td>NaN</td>\n",
       "      <td>NaN</td>\n",
       "      <td>NaN</td>\n",
       "      <td>NaN</td>\n",
       "    </tr>\n",
       "    <tr>\n",
       "      <th>9</th>\n",
       "      <td>inpput_neuron_number</td>\n",
       "      <td>train_1</td>\n",
       "      <td>train_2</td>\n",
       "      <td>train_3</td>\n",
       "      <td>train_4</td>\n",
       "      <td>train_5</td>\n",
       "      <td>train_6</td>\n",
       "      <td>train_7</td>\n",
       "      <td>train_8</td>\n",
       "      <td>train_9</td>\n",
       "      <td>train_10</td>\n",
       "    </tr>\n",
       "    <tr>\n",
       "      <th>10</th>\n",
       "      <td>1.0</td>\n",
       "      <td>1.0</td>\n",
       "      <td>0.0</td>\n",
       "      <td>0.0</td>\n",
       "      <td>2.0</td>\n",
       "      <td>1.0</td>\n",
       "      <td>1.0</td>\n",
       "      <td>3.0</td>\n",
       "      <td>0.0</td>\n",
       "      <td>1.0</td>\n",
       "      <td>2.0</td>\n",
       "    </tr>\n",
       "    <tr>\n",
       "      <th>11</th>\n",
       "      <td>2.0</td>\n",
       "      <td>0.0</td>\n",
       "      <td>1.0</td>\n",
       "      <td>2.0</td>\n",
       "      <td>2.0</td>\n",
       "      <td>2.0</td>\n",
       "      <td>0.0</td>\n",
       "      <td>1.0</td>\n",
       "      <td>0.0</td>\n",
       "      <td>2.0</td>\n",
       "      <td>2.0</td>\n",
       "    </tr>\n",
       "    <tr>\n",
       "      <th>12</th>\n",
       "      <td>3.0</td>\n",
       "      <td>0.0</td>\n",
       "      <td>0.0</td>\n",
       "      <td>0.0</td>\n",
       "      <td>1.0</td>\n",
       "      <td>0.0</td>\n",
       "      <td>0.0</td>\n",
       "      <td>0.0</td>\n",
       "      <td>2.0</td>\n",
       "      <td>0.0</td>\n",
       "      <td>2.0</td>\n",
       "    </tr>\n",
       "    <tr>\n",
       "      <th>13</th>\n",
       "      <td>4.0</td>\n",
       "      <td>0.0</td>\n",
       "      <td>0.0</td>\n",
       "      <td>0.0</td>\n",
       "      <td>0.0</td>\n",
       "      <td>0.0</td>\n",
       "      <td>0.0</td>\n",
       "      <td>2.0</td>\n",
       "      <td>2.0</td>\n",
       "      <td>1.0</td>\n",
       "      <td>3.0</td>\n",
       "    </tr>\n",
       "    <tr>\n",
       "      <th>14</th>\n",
       "      <td>5.0</td>\n",
       "      <td>0.0</td>\n",
       "      <td>0.0</td>\n",
       "      <td>0.0</td>\n",
       "      <td>0.0</td>\n",
       "      <td>0.0</td>\n",
       "      <td>3.0</td>\n",
       "      <td>3.0</td>\n",
       "      <td>2.0</td>\n",
       "      <td>1.0</td>\n",
       "      <td>3.0</td>\n",
       "    </tr>\n",
       "    <tr>\n",
       "      <th>15</th>\n",
       "      <td>output_neuron_number</td>\n",
       "      <td>1.0</td>\n",
       "      <td>1.0</td>\n",
       "      <td>1.0</td>\n",
       "      <td>1.0</td>\n",
       "      <td>1.0</td>\n",
       "      <td>0.0</td>\n",
       "      <td>0.0</td>\n",
       "      <td>0.0</td>\n",
       "      <td>1.0</td>\n",
       "      <td>0.0</td>\n",
       "    </tr>\n",
       "  </tbody>\n",
       "</table>\n",
       "</div>"
      ],
      "text/plain": [
       "                    test Unnamed: 1 Unnamed: 2 Unnamed: 3 Unnamed: 4  \\\n",
       "0   inpput_neuron_number   train_1     train_2    train_3    train_4   \n",
       "1                    1.0        1.0        2.0        3.0        2.0   \n",
       "2                    2.0        1.0        1.0        1.0        0.0   \n",
       "3                    3.0        0.0        1.0        0.0        0.0   \n",
       "4                    4.0        0.0        0.0        0.0        0.0   \n",
       "5                    5.0        0.0        0.0        0.0        0.0   \n",
       "6   output_neuron_number        1.0        1.0        1.0        1.0   \n",
       "7                    NaN        NaN        NaN        NaN        NaN   \n",
       "8                   test        NaN        NaN        NaN        NaN   \n",
       "9   inpput_neuron_number   train_1     train_2    train_3    train_4   \n",
       "10                   1.0        1.0        0.0        0.0        2.0   \n",
       "11                   2.0        0.0        1.0        2.0        2.0   \n",
       "12                   3.0        0.0        0.0        0.0        1.0   \n",
       "13                   4.0        0.0        0.0        0.0        0.0   \n",
       "14                   5.0        0.0        0.0        0.0        0.0   \n",
       "15  output_neuron_number        1.0        1.0        1.0        1.0   \n",
       "\n",
       "   Unnamed: 5 Unnamed: 6 Unnamed: 7 Unnamed: 8 Unnamed: 9 Unnamed: 10  \n",
       "0     train_5    train_6    train_7    train_8    train_9    train_10  \n",
       "1         1.0        1.0        0.0        0.0        0.0         2.0  \n",
       "2         1.0        0.0        1.0        0.0        0.0         2.0  \n",
       "3         0.0        0.0        0.0        0.0        0.0         2.0  \n",
       "4         0.0        0.0        3.0        1.0        0.0         1.0  \n",
       "5         1.0        2.0        0.0        1.0        1.0         2.0  \n",
       "6         1.0        0.0        0.0        0.0        0.0         1.0  \n",
       "7         NaN        NaN        NaN        NaN        NaN         NaN  \n",
       "8         NaN        NaN        NaN        NaN        NaN         NaN  \n",
       "9     train_5    train_6    train_7    train_8    train_9    train_10  \n",
       "10        1.0        1.0        3.0        0.0        1.0         2.0  \n",
       "11        2.0        0.0        1.0        0.0        2.0         2.0  \n",
       "12        0.0        0.0        0.0        2.0        0.0         2.0  \n",
       "13        0.0        0.0        2.0        2.0        1.0         3.0  \n",
       "14        0.0        3.0        3.0        2.0        1.0         3.0  \n",
       "15        1.0        0.0        0.0        0.0        1.0         0.0  "
      ]
     },
     "execution_count": 32,
     "metadata": {},
     "output_type": "execute_result"
    }
   ],
   "source": [
    "import pandas as pd\n",
    "data = pd.read_excel('./CN_3_DATASET.xlsx')\n",
    "data"
   ]
  },
  {
   "cell_type": "code",
   "execution_count": 33,
   "id": "2be8cdbf",
   "metadata": {},
   "outputs": [],
   "source": [
    "train_list = [([1,1,0,0,0], 1), \n",
    "              ([2,1,1,0,0], 1), \n",
    "              ([3,1,0,0,0], 1), \n",
    "              ([2,0,0,0,0], 1), \n",
    "              ([1,1,0,0,1], 0), \n",
    "              ([1,0,0,0,2], 0), \n",
    "              ([0,1,0,3,0], 0), \n",
    "              ([0,0,0,1,1], 0), \n",
    "              ([0,0,0,0,1], 0), \n",
    "              ([2,2,2,1,2], 1)]\n",
    "\n",
    "test_list = [([1,0,0,0,0], 1), \n",
    "             ([0,1,0,0,0], 1), \n",
    "             ([0,2,0,0,0], 1), \n",
    "             ([2,2,1,0,0], 1), \n",
    "             ([1,2,0,0,0], 1), \n",
    "             ([1,0,0,0,3], 0), \n",
    "             ([3,1,0,2,3], 0), \n",
    "             ([0,0,2,2,2], 0), \n",
    "             ([1,2,0,1,1], 1), \n",
    "             ([2,2,2,3,3], 0)]"
   ]
  },
  {
   "cell_type": "code",
   "execution_count": 34,
   "id": "794f8e29",
   "metadata": {},
   "outputs": [
    {
     "name": "stdout",
     "output_type": "stream",
     "text": [
      "1000\n",
      "[-150.0, 75.0, -150.0, 75.0, -150.0, 75.0, -150.0, 75.0, -150.0, 75.0]\n",
      "1000\n",
      "[-1500.0, 725.0, -1500.0, 725.0, -1500.0, 725.0, -1500.0, 725.0, -1500.0, 725.0]\n",
      "1000\n",
      "[-15000.0, 7225.0, -15000.0, 7225.0, -15000.0, 7225.0, -15000.0, 7225.0, -15000.0, 7225.0]\n",
      "1000\n",
      "[-15000.0, 7225.0, -15000.0, 7225.0, -15000.0, 7225.0, -15000.0, 7225.0, -15000.0, 7225.0]\n",
      "1000\n",
      "[-7500.0, 3587.5, -7500.0, 3587.5, -7500.0, 3587.5, -7500.0, 3587.5, -7500.0, 3587.5]\n",
      "1000\n",
      "[-7500.0, 3587.5, -7500.0, 3587.5, -7500.0, 3587.5, -7500.0, 3587.5, -7500.0, 3587.5]\n",
      "1000\n",
      "[-3750.0, 1768.75, -3750.0, 1768.75, -3750.0, 1768.75, -3750.0, 1768.75, -3750.0, 1768.75]\n",
      "1000\n",
      "[-3750.0, 1768.75, -3750.0, 1768.75, -3750.0, 1768.75, -3750.0, 1768.75, -3750.0, 1768.75]\n",
      "1000\n",
      "[-3750.0, 1768.75, -3750.0, 1768.75, -3750.0, 1768.75, -3750.0, 1768.75, -3750.0, 1768.75]\n",
      "1000\n",
      "[-3750000.0, 1766250.0, -3750000.0, 1766250.0, -3750000.0, 1766250.0, -3750000.0, 1766250.0, -3750000.0, 1766250.0]\n"
     ]
    }
   ],
   "source": [
    "weights = []\n",
    "learning_step = 1\n",
    "for data in train_list:\n",
    "    weights = train(step_number = learning_step, input_currents = data[0], target_neuron = data[1], weights = weights)\n",
    "    print(weights)\n",
    "    learning_step += 1"
   ]
  },
  {
   "cell_type": "code",
   "execution_count": 35,
   "id": "bfddfe4b",
   "metadata": {},
   "outputs": [
    {
     "name": "stdout",
     "output_type": "stream",
     "text": [
      "1000\n",
      "False\n",
      "[-3750000.0, 1766250.0, -3750000.0, 1766250.0, -3750000.0, 1766250.0, -3750000.0, 1766250.0, -3750000.0, 1766250.0]\n",
      "767\n",
      "True\n",
      "[-3750000.0, 1766250.0, -3750000.0, 1766250.0, -3750000.0, 1766250.0, -3750000.0, 1766250.0, -3750000.0, 1766250.0]\n",
      "366\n",
      "True\n",
      "[-3750000.0, 1766250.0, -3750000.0, 1766250.0, -3750000.0, 1766250.0, -3750000.0, 1766250.0, -3750000.0, 1766250.0]\n",
      "366\n",
      "True\n",
      "[-3750000.0, 1766250.0, -3750000.0, 1766250.0, -3750000.0, 1766250.0, -3750000.0, 1766250.0, -3750000.0, 1766250.0]\n",
      "366\n",
      "True\n",
      "[-3750000.0, 1766250.0, -3750000.0, 1766250.0, -3750000.0, 1766250.0, -3750000.0, 1766250.0, -3750000.0, 1766250.0]\n",
      "1000\n",
      "False\n",
      "[-3750000.0, 1766250.0, -3750000.0, 1766250.0, -3750000.0, 1766250.0, -3750000.0, 1766250.0, -3750000.0, 1766250.0]\n",
      "767\n",
      "False\n",
      "[-3750000.0, 1766250.0, -3750000.0, 1766250.0, -3750000.0, 1766250.0, -3750000.0, 1766250.0, -3750000.0, 1766250.0]\n",
      "1000\n",
      "False\n",
      "[-3750000.0, 1766250.0, -3750000.0, 1766250.0, -3750000.0, 1766250.0, -3750000.0, 1766250.0, -3750000.0, 1766250.0]\n",
      "366\n",
      "True\n",
      "[-3750000.0, 1766250.0, -3750000.0, 1766250.0, -3750000.0, 1766250.0, -3750000.0, 1766250.0, -3750000.0, 1766250.0]\n",
      "366\n",
      "False\n",
      "[-3750000.0, 1766250.0, -3750000.0, 1766250.0, -3750000.0, 1766250.0, -3750000.0, 1766250.0, -3750000.0, 1766250.0]\n"
     ]
    }
   ],
   "source": [
    "for data in test_list:\n",
    "    weights= test(input_currents = data[0], target_neuron = data[1], weights = weights)\n",
    "    print(weights)"
   ]
  },
  {
   "cell_type": "code",
   "execution_count": null,
   "id": "5f93a947",
   "metadata": {},
   "outputs": [],
   "source": []
  }
 ],
 "metadata": {
  "kernelspec": {
   "display_name": "Python 3 (ipykernel)",
   "language": "python",
   "name": "python3"
  },
  "language_info": {
   "codemirror_mode": {
    "name": "ipython",
    "version": 3
   },
   "file_extension": ".py",
   "mimetype": "text/x-python",
   "name": "python",
   "nbconvert_exporter": "python",
   "pygments_lexer": "ipython3",
   "version": "3.9.5"
  }
 },
 "nbformat": 4,
 "nbformat_minor": 5
}
