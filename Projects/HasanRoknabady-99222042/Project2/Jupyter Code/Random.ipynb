{
 "cells": [
  {
   "cell_type": "code",
   "execution_count": 2,
   "id": "22139362",
   "metadata": {},
   "outputs": [],
   "source": [
    "#Hasan Roknabady\n",
    "import random as rand\n",
    "\n",
    "class Rand_current:\n",
    "    def __init__(self, i=1, stp=100):\n",
    "        self.last_i = 0\n",
    "        self.up_high = True\n",
    "        self.i = i\n",
    "        self.step = stp\n",
    "\n",
    "    def acquire(self, it):\n",
    "        if it % 20 == 0:\n",
    "            self.up_high = not self.up_high\n",
    "        tmp = rand.random()\n",
    "        if self.up_high:\n",
    "            tmp = self.last_i + tmp * (self.i / 2)\n",
    "        else:\n",
    "            tmp = self.last_i - tmp * (self.i / 2)\n",
    "        if tmp > self.i * 2 or tmp < 0:\n",
    "            tmp = rand.random() * self.i\n",
    "        self.last_i = tmp\n",
    "        return tmp"
   ]
  }
 ],
 "metadata": {
  "kernelspec": {
   "display_name": "Python 3 (ipykernel)",
   "language": "python",
   "name": "python3"
  },
  "language_info": {
   "codemirror_mode": {
    "name": "ipython",
    "version": 3
   },
   "file_extension": ".py",
   "mimetype": "text/x-python",
   "name": "python",
   "nbconvert_exporter": "python",
   "pygments_lexer": "ipython3",
   "version": "3.9.6"
  }
 },
 "nbformat": 4,
 "nbformat_minor": 5
}
