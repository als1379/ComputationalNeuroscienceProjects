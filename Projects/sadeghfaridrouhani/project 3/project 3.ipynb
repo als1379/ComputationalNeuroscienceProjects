{
  "nbformat": 4,
  "nbformat_minor": 0,
  "metadata": {
    "colab": {
      "name": "Copy of series 3 me.ipynb",
      "provenance": [],
      "collapsed_sections": []
    },
    "kernelspec": {
      "name": "python3",
      "display_name": "Python 3"
    },
    "language_info": {
      "name": "python"
    }
  },
  "cells": [
    {
      "cell_type": "code",
      "source": [
        "import pandas as pd\n",
        "import numpy as np\n",
        "import heapq\n",
        "import math\n",
        "import matplotlib.pyplot as plt\n",
        "from enum import Enum\n",
        "import random"
      ],
      "metadata": {
        "id": "avIUR5Uul9dL"
      },
      "execution_count": 2,
      "outputs": []
    },
    {
      "cell_type": "code",
      "execution_count": 3,
      "metadata": {
        "id": "OAss5pfrlVkk"
      },
      "outputs": [],
      "source": [
        "def inp(t):\n",
        "    \"\"\"I(t) = 0\"\"\"\n",
        "    return 0 * t\n",
        "\n",
        "class NeuronClass(Enum):\n",
        "    excitatory = 1,\n",
        "    inhibitory = 0\n",
        "\n",
        "class SimpleLIF:\n",
        "    def __init__(self,\n",
        "                 u_rest=-65,\n",
        "                 resistance=11,\n",
        "                 capacitance=0.9,\n",
        "                 time=100,\n",
        "                 dt=0.1,\n",
        "                 threshold=-48,\n",
        "                 u_reset=-60,\n",
        "                 u_start=-75,\n",
        "                 input_current=inp,\n",
        "                 is_exponential=False,\n",
        "                 delta_tt=1,\n",
        "                 theta_rh=-55,\n",
        "                 is_adaptive=False,\n",
        "                 tau_w=1,\n",
        "                 a=0.01,\n",
        "                 b=0.5,\n",
        "                 n_t=NeuronClass.excitatory):\n",
        "\n",
        "        self.current_time = 0.0\n",
        "        self.u_start = u_start\n",
        "        self.u_rest = u_rest\n",
        "        self.u_reset = u_reset\n",
        "        self.resistance = resistance\n",
        "        self.capacitance = capacitance\n",
        "        self.time = time\n",
        "        self.dt = dt\n",
        "        self.threshold = threshold\n",
        "        self.input_current = input_current\n",
        "        self.is_exponential = is_exponential\n",
        "        self.delta_tt = delta_tt\n",
        "        self.theta_rh = theta_rh\n",
        "        self.is_adaptive = is_adaptive\n",
        "        self.tau_w = tau_w\n",
        "        self.a = a\n",
        "        self.b = b\n",
        "        self.tau = self.resistance * self.capacitance\n",
        "        self.u_t = []\n",
        "        self.last_spike = -1\n",
        "        self.sigma_delta_func = 0\n",
        "        self.u = u_start\n",
        "        self.w = 0\n",
        "        self.n_t = n_t\n",
        "        self.spike_count = 0\n",
        "        self.spikes = []\n",
        "\n",
        "    def initialize(self):\n",
        "        while self.current_time <= self.time:\n",
        "            self.__fu(self.current_time)\n",
        "            yield self.sigma_delta_func\n",
        "            self.current_time += self.dt\n",
        "\n",
        "    def __fu(self, current_time):\n",
        "        exp_val = 0\n",
        "        input_value = self.input_current(current_time)\n",
        "\n",
        "        if self.is_exponential:\n",
        "            exp_val = self.delta_tt * math.exp((self.u - self.theta_rh) / self.delta_tt)\n",
        "        du = self.dt * (-(self.u - self.u_rest) + exp_val - self.resistance * self.w +\n",
        "                        self.resistance * input_value) / self.tau\n",
        "\n",
        "        if self.is_adaptive:\n",
        "            dw = (self.dt / self.tau_w) * (self.a * (self.u - self.u_rest)\n",
        "                                           - self.w + self.b * self.tau_w * self.sigma_delta_func)\n",
        "            self.w += dw\n",
        "        self.u += du\n",
        "        self.sigma_delta_func = 0\n",
        "\n",
        "        if self.check_spikes():\n",
        "            self.last_spike = current_time\n",
        "            self.spike_count += 1\n",
        "            self.spikes.append(current_time)\n",
        "        self.u_t.append(self.u)\n",
        "\n",
        "    def u_t_plot(self):\n",
        "        plt.plot(list(map(lambda i: i * self.dt, range(len(self.u_t)))), self.u_t)\n",
        "        plt.ylabel('U')\n",
        "        plt.xlabel('Time')\n",
        "        plt.title('U-T plot')\n",
        "        plt.grid(True)\n",
        "        plt.show()\n",
        "\n",
        "    def check_spikes(self):\n",
        "        if self.u >= self.threshold:\n",
        "            self.u = self.u_reset\n",
        "            self.sigma_delta_func = 1\n",
        "            return True\n",
        "        return False\n",
        "\n",
        "    def reset(self):\n",
        "        self.hard_reset()\n",
        "        pass\n",
        "\n",
        "    def hard_reset(self):\n",
        "        self.sigma_delta_func = 0\n",
        "        self.u = self.u_start\n",
        "        self.spikes = []\n",
        "        self.u_t = []\n",
        "        self.spike_count = 0\n",
        "        self.current_time = 0\n",
        "\n",
        "\n",
        "class SimpleLIFWithSingleStep:\n",
        "    def __init__(self,\n",
        "                 u_rest=-70,\n",
        "                 resistance=10,\n",
        "                 capacitance=0.8,\n",
        "                 time=100,\n",
        "                 dt=0.1,\n",
        "                 threshold=-45,\n",
        "                 u_reset=-65,\n",
        "                 u_start=-80):\n",
        "        self.current_time = 0.0\n",
        "        self.u_start = u_start\n",
        "        self.u_rest = u_rest\n",
        "        self.u_reset = u_reset\n",
        "        self.resistance = resistance\n",
        "        self.capacitance = capacitance\n",
        "        self.time = time\n",
        "        self.dt = dt\n",
        "        self.threshold = threshold\n",
        "        self.tau = self.resistance * self.capacitance\n",
        "        self.u_t = []\n",
        "        self.last_spike = -1\n",
        "        self.sigma_delta_func = 0\n",
        "        self.u = u_start\n",
        "        self.spike_count = 0\n",
        "        self.spikes = []\n",
        "\n",
        "    def single_step(self, current, time, dt):\n",
        "        du = dt * (-1 * (self.u - self.u_rest) + 1e-3 * self.resistance * current) / self.tau\n",
        "        self.u += du\n",
        "        time += dt\n",
        "        self.sigma_delta_func = 0\n",
        "        if self.u > self.threshold:\n",
        "            self.u = self.u_reset\n",
        "            self.sigma_delta_func = 1\n",
        "            self.last_spike = time\n",
        "            self.spike_count += 1\n",
        "            self.spikes.append(time)\n",
        "        self.u_t.append(self.u)\n",
        "\n",
        "    def reset(self):\n",
        "        self.u_t = []\n",
        "        self.spikes = []\n",
        "        self.spike_count = 0\n",
        "        self.u = self.u_rest"
      ]
    },
    {
      "cell_type": "code",
      "source": [
        "class NeuronsGroup:\n",
        "    def __init__(self,\n",
        "                 neurons,\n",
        "                 connections,\n",
        "                 weight_array,\n",
        "                 delay=1,\n",
        "                 iteration_count=1000):\n",
        "        self.neurons = neurons\n",
        "        self.neuron_action = []\n",
        "        self.connections = connections\n",
        "        self.weight_array = weight_array\n",
        "        self.delay = delay\n",
        "        self.iteration_count = iteration_count\n",
        "        self.spikes = []\n",
        "        self.excitatory_spike_times = []\n",
        "        self.excitatory_spikes = []\n",
        "        self.inhibitory_spike_times = []\n",
        "        self.inhibitory_spikes = []\n",
        "        self.spikes_effect = [[0] * len(self.neurons) for _ in range(self.iteration_count)]\n",
        "\n",
        "        for neuron in neurons:\n",
        "            self.neuron_action.append(neuron.initialize())\n",
        "\n",
        "    def initialize(self):\n",
        "        for time in range(self.iteration_count):\n",
        "            for i in range(len(self.neuron_action)):\n",
        "                sigma_delta_func = next(self.neuron_action[i])\n",
        "                if sigma_delta_func == 1:\n",
        "                    if self.neurons[i].n_t is NeuronClass.excitatory:\n",
        "                        for j in self.connections[i]:\n",
        "                            self.excitatory_spikes.append(i + 1)\n",
        "                            self.excitatory_spike_times.append(time)\n",
        "                            if time + self.delay < self.iteration_count:\n",
        "                                self.spikes_effect[time + self.delay][j] += self.weight_array[i][j]\n",
        "                    else:\n",
        "                        for j in self.connections[i]:\n",
        "                            self.inhibitory_spikes.append(i + 1)\n",
        "                            self.inhibitory_spike_times.append(time)\n",
        "                            if time + self.delay < self.iteration_count:\n",
        "                                self.spikes_effect[time + self.delay][j] -= self.weight_array[i][j]\n",
        "\n",
        "            for i in range(len(self.neurons)):\n",
        "                self.neurons[i].u += self.spikes_effect[time][i]\n",
        "            yield True\n",
        "        yield False\n",
        "\n",
        "    def potential_plot(self, neurons_count):\n",
        "        legend = []\n",
        "        for i in range(min(len(self.neurons), neurons_count)):\n",
        "            plt.plot(list(map(lambda j: j * self.neurons[i].dt, range(len(self.neurons[i].u_t)))), self.neurons[i].u_t)\n",
        "            legend.append('neuron ' + str(i + 1))\n",
        "        plt.legend(legend)\n",
        "\n",
        "    def raster_plot(self):\n",
        "        plt.scatter(self.excitatory_spike_times, self.excitatory_spikes, color='blue', s=10)\n",
        "        plt.scatter(self.inhibitory_spike_times, self.inhibitory_spikes, color='red', s=10)\n",
        "        plt.legend(['blue:Excitatory', 'red:Inhibitory'])\n",
        "\n",
        "    def reset(self):\n",
        "        self.spikes = []\n",
        "        self.excitatory_spike_times = []\n",
        "        self.excitatory_spikes = []\n",
        "        self.inhibitory_spike_times = []\n",
        "        self.inhibitory_spikes = []\n",
        "        self.spikes_effect = [[0] * len(self.neurons) for _ in range(self.iteration_count)]\n",
        "        self.neuron_action = []\n",
        "\n",
        "        for neuron in self.neurons:\n",
        "            neuron.reset()\n",
        "            self.neuron_action.append(neuron.initialize())\n",
        "\n",
        "    @staticmethod\n",
        "    def create_neurons_group(neurons_count, excitatory_count, inhibitory_count,\n",
        "                            excitatory_probability, inhibitory_probability, input_current, **kwargs):\n",
        "        neurons = []\n",
        "        connections = []\n",
        "        exc_neuron_conn_count = int(neurons_count * excitatory_probability)\n",
        "        inh_neuron_conn_count = int(neurons_count * inhibitory_probability)\n",
        "\n",
        "        for i in range(excitatory_count):\n",
        "            args = {}\n",
        "            if 'Excitatory' in kwargs.keys():\n",
        "                for arg in kwargs['Excitatory']:\n",
        "                    args[arg] = kwargs[arg][i]\n",
        "            neuron = SimpleLIF(input_current=input_current[i], n_t=NeuronClass.excitatory, **args)\n",
        "            neurons.append(neuron)\n",
        "            connections.append(random.sample(range(neurons_count), exc_neuron_conn_count))\n",
        "            \n",
        "        for i in range(inhibitory_count):\n",
        "            args = {}\n",
        "            if 'Inhibitory' in kwargs.keys():\n",
        "                for arg in kwargs['Inhibitory']:\n",
        "                    args[arg] = kwargs[arg][i]\n",
        "            neuron = SimpleLIF(input_current=input_current[i], n_t=NeuronClass.inhibitory, **args)\n",
        "            neurons.append(neuron)\n",
        "            connections.append(random.sample(range(neurons_count), inh_neuron_conn_count))\n",
        "\n",
        "        return NeuronsGroup(neurons, connections, **kwargs)"
      ],
      "metadata": {
        "id": "GQpvpa4WpWkE"
      },
      "execution_count": 4,
      "outputs": []
    },
    {
      "cell_type": "code",
      "source": [
        "class SpikingTimeDependantPlasticity:\n",
        "    def __init__(self,\n",
        "                 neurons_group:NeuronsGroup,\n",
        "                 amplify_val_pos,\n",
        "                 amplify_val_neg,\n",
        "                 delta_tau_pos,\n",
        "                 delta_tau_neg):\n",
        "        self.neurons_gp = neurons_group\n",
        "        self.amplify_val_pos = amplify_val_pos\n",
        "        self.amplify_val_neg = amplify_val_neg\n",
        "        self.delta_tau_pos = delta_tau_pos\n",
        "        self.delta_tau_neg = delta_tau_neg\n",
        "        self.w_history = []\n",
        "        self.neurons_gp.reset()\n",
        "\n",
        "    def train_the_network(self):\n",
        "        func = self.neurons_gp.initialize()\n",
        "        while next(func):\n",
        "            temp = []\n",
        "            for w1 in self.neurons_gp.weight_array:\n",
        "                temp2 = []\n",
        "                for w2 in w1:\n",
        "                    temp2.append(w2)\n",
        "                temp.append(temp2)\n",
        "            self.w_history.append(temp)\n",
        "\n",
        "            for i in range(len(self.neurons_gp.neurons)):\n",
        "                for j in self.neurons_gp.connections[i]:\n",
        "                    delta_t = self.neurons_gp.neurons[j].last_spike - self.neurons_gp.neurons[i].last_spike\n",
        "                    delta_w = 0\n",
        "\n",
        "                    if self.neurons_gp.neurons[j].last_spike != -1 or self.neurons_gp.neurons[i].last_spike != -1:\n",
        "                        if delta_t < 0:\n",
        "                            delta_w = self.amplify_val_neg * math.exp(math.fabs(delta_t)/self.delta_tau_neg)\n",
        "                        elif delta_t > 0:\n",
        "                            delta_w = self.amplify_val_pos * math.exp(math.fabs(delta_t)/self.delta_tau_pos)\n",
        "                    self.neurons_gp.weight_array[i][j] += delta_w\n",
        "\n",
        "                    if self.neurons_gp.weight_array[i][j] <= 0:\n",
        "                        self.neurons_gp.weight_array[i][j] = 0\n",
        "\n",
        "    def weight_plot(self, i, j):\n",
        "        w_t = []\n",
        "        for table in self.w_history:\n",
        "            w_t.append(table[i][j])\n",
        "        plt.plot(list(map(lambda k: k * self.neurons_gp.neurons[i].dt, range(len(w_t)))), w_t)\n",
        "        plt.ylabel('Weight between neurons ' + str(i) + ' and' + str(j))\n",
        "        plt.xlabel('Time')\n",
        "        plt.title('W-T plot')\n",
        "        plt.grid(True)\n",
        "        plt.show()"
      ],
      "metadata": {
        "id": "07q05_iLpR3m"
      },
      "execution_count": 5,
      "outputs": []
    },
    {
      "cell_type": "code",
      "source": [
        "class SpikingNeuralNetwork:\n",
        "\n",
        "    def __init__(self,\n",
        "                 network_dim,\n",
        "                 neurons,\n",
        "                 tau_tag,\n",
        "                 tau_dopamine,\n",
        "                 reward_score):\n",
        "        self.network_dim = network_dim\n",
        "        self.network_neurons = neurons\n",
        "        self.connections = []\n",
        "        self.tau_dopamine = tau_dopamine\n",
        "        self.tau_tag = tau_tag\n",
        "        self.tags = []\n",
        "        self.reward_score = reward_score\n",
        "        self.connect_the_neurons()\n",
        "        self.dopamine = 0\n",
        "\n",
        "    def connect_the_neurons(self):\n",
        "        for i in range(0, len(self.network_dim) - 1):\n",
        "            self.connections.append(np.ones((self.network_dim[i], self.network_dim[i + 1])) * 8 + np.random.rand())\n",
        "            self.tags.append(np.zeros((self.network_dim[i], self.network_dim[i + 1])))\n",
        "\n",
        "    def fit(self, x, y, dt, epoch_time, dt_minus, dt_plus, a_minus, a_plus, time_course_threshold, iterations,\n",
        "            learn_time):\n",
        "        time = 0\n",
        "        lt = learn_time\n",
        "        for iteration in range(iterations):\n",
        "            index = np.random.randint(0, x.shape[0])\n",
        "            epoch = 0\n",
        "            while epoch < epoch_time:\n",
        "                inputs = x[index]\n",
        "                for layer in range(len(self.network_neurons)):\n",
        "                    for i, neuron in enumerate(self.network_neurons[layer]):\n",
        "                        neuron.single_step(inputs[i], time, dt)\n",
        "                    if layer != len(self.network_neurons) - 1:\n",
        "                        activities = self.activity_history(layer, time + dt, dt, time_course_threshold)\n",
        "                        inputs = activities @ self.connections[layer]\n",
        "\n",
        "                flag = False\n",
        "                if time > lt:\n",
        "                    flag = True\n",
        "                    lt += learn_time\n",
        "                self.train_the_network(y, index, time + dt, dt, dt_minus, dt_plus, a_minus, a_plus, learn_time, flag)\n",
        "\n",
        "                epoch += dt\n",
        "                time += dt\n",
        "\n",
        "    def train_the_network(self, y, index, time, dt, dt_minus, dt_plus, a_minus, a_plus, learn_time, flag):\n",
        "        for layer in range(len(self.connections)):\n",
        "            for i in range(len(self.network_neurons[layer])):\n",
        "                for j in range(len(self.network_neurons[layer + 1])):\n",
        "                    pre_neuron = self.network_neurons[layer][i]\n",
        "                    post_neuron = self.network_neurons[layer][j]\n",
        "                    stdp = 0\n",
        "\n",
        "                    if pre_neuron.spike_count != 0 and post_neuron.spike_count != 0 and post_neuron.spikes[-1] == time:\n",
        "                        dt = abs(post_neuron.spikes[-1] - pre_neuron.spikes[-1])\n",
        "                        if post_neuron.spikes[-1] > pre_neuron.spikes[-1]:\n",
        "                            stdp += a_plus * math.exp(-(dt / dt_plus))\n",
        "                        if post_neuron.spikes[-1] < pre_neuron.spikes[-1]:\n",
        "                            stdp += a_minus * math.exp(-(dt / dt_minus))\n",
        "\n",
        "                    self.tags[layer][i, j] += dt * ((-self.tags[layer][i, j] / self.tau_tag) + stdp)\n",
        "                    self.connections[layer][i, j] += dt * (self.tags[layer][i, j] * self.dopamine)\n",
        "                    if self.connections[layer][i, j] < 0:\n",
        "                        self.connections[layer][i, j] = 0\n",
        "\n",
        "        reward = 0\n",
        "        if flag:\n",
        "            actions = np.zeros_like(self.network_neurons[-1])\n",
        "            for i, neuron in enumerate(self.network_neurons[-1]):\n",
        "                amount = 0\n",
        "                for spike in reversed(neuron.spikes):\n",
        "                    if time - spike > learn_time:\n",
        "                        amount += 1\n",
        "                actions[i] = amount\n",
        "            if np.argmax(actions) == int(y[index]):\n",
        "                largest_integers = heapq.nlargest(2, list(actions))\n",
        "                if largest_integers[0] != 0 and (largest_integers[0] - largest_integers[1]) / largest_integers[0] > 0.1:\n",
        "                    reward += self.reward_score\n",
        "                else:\n",
        "                    reward -= self.reward_score\n",
        "            else:\n",
        "                reward -= self.reward_score\n",
        "        self.dopamine += learn_time * ((-self.dopamine / self.tau_dopamine) + reward)\n",
        "\n",
        "    def activity_history(self, layer, time, dt, time_course_threshold):\n",
        "        activity_list = np.zeros(self.network_dim[layer])\n",
        "        for idx in range(self.network_dim[layer]):\n",
        "            activity_list[idx] = self.activity_history_single(layer, idx, time, dt, time_course_threshold)\n",
        "        return activity_list\n",
        "\n",
        "    def activity_history_single(self, layer, index, time, dt, time_course_threshold):\n",
        "        neuron = self.network_neurons[layer][index]\n",
        "        s = 0\n",
        "        activity = 0\n",
        "        while self.time_course(s) > time_course_threshold:\n",
        "            if (time - s) in neuron.spikes:\n",
        "                activity += self.time_course(s)\n",
        "            s += dt\n",
        "        return activity\n",
        "\n",
        "    def test_the_model(self, x, time_interval, dt, time_course_threshold):\n",
        "        results = np.zeros((len(x)))\n",
        "        for i in range(len(x)):\n",
        "            self.reset()\n",
        "            time = 0\n",
        "            while time < time_interval:\n",
        "                inputs = x[i]\n",
        "                for layer in range(len(self.network_neurons)):\n",
        "                    for k, neuron in enumerate(self.network_neurons[layer]):\n",
        "                        neuron.single_step(current=inputs[k], time=time, dt=dt)\n",
        "                    if layer != len(self.network_neurons) - 1:\n",
        "                        activities = self.activity_history(layer, time + dt, dt, time_course_threshold)\n",
        "                        inputs = activities @ self.connections[layer]\n",
        "                time += dt\n",
        "\n",
        "            if self.network_neurons[-1][0].spike_count > self.network_neurons[-1][1].spike_count:\n",
        "                results[i] = 0\n",
        "            else:\n",
        "                results[i] = 1\n",
        "\n",
        "        return results\n",
        "\n",
        "    def reset(self):\n",
        "        for i in range(len(self.network_neurons)):\n",
        "            for neuron in self.network_neurons[i]:\n",
        "                neuron.reset()\n",
        "\n",
        "    @staticmethod\n",
        "    def time_course(s):\n",
        "        sigma = 7.5\n",
        "        return 250 * (1 / (sigma * math.sqrt(2 * math.pi))) * math.exp(-(s / sigma) ** 2)"
      ],
      "metadata": {
        "id": "EToMtUS6rEc8"
      },
      "execution_count": 6,
      "outputs": []
    },
    {
      "cell_type": "code",
      "source": [
        "const = lambda x: 180 * (math.sqrt(math.fabs(math.sin(x))))\n",
        "\n",
        "neuron1 = SimpleLIF(input_current=const, threshold=-60)\n",
        "neuron2 = SimpleLIF(input_current=const)\n",
        "neuron3 = SimpleLIF(input_current=const)\n",
        "\n",
        "connections = [[1, 2], [0, 2], [0, 1]]\n",
        "neurons = [neuron1, neuron2, neuron3]\n",
        "\n",
        "weight_array = []\n",
        "\n",
        "for i in range(3):\n",
        "    temp = []\n",
        "    for j in range(3):\n",
        "        temp.append(random.randint(8, 14))\n",
        "    weight_array.append(temp)\n",
        "\n",
        "for i in range(3):\n",
        "    weight_array[i][i] = 0\n",
        "print(weight_array)\n",
        "ng = NeuronsGroup(neurons=neurons, connections=connections, weight_array=weight_array)\n",
        "STDP = SpikingTimeDependantPlasticity(neurons_group=ng, amplify_val_pos=10, amplify_val_neg=-10, delta_tau_pos=0.2, delta_tau_neg=0.2)\n",
        "STDP.train_the_network()"
      ],
      "metadata": {
        "colab": {
          "base_uri": "https://localhost:8080/"
        },
        "id": "_ksN1L5Vuysi",
        "outputId": "f4abe3e7-b312-45cf-b69d-3fc72c9529eb"
      },
      "execution_count": 9,
      "outputs": [
        {
          "output_type": "stream",
          "name": "stdout",
          "text": [
            "[[0, 10, 9], [14, 0, 12], [13, 11, 0]]\n"
          ]
        }
      ]
    },
    {
      "cell_type": "code",
      "source": [
        "ng.potential_plot(3)"
      ],
      "metadata": {
        "colab": {
          "base_uri": "https://localhost:8080/",
          "height": 265
        },
        "id": "Un36ildPu9Vr",
        "outputId": "39e76d7a-35f8-457b-bcb0-1769bb58e3d3"
      },
      "execution_count": 24,
      "outputs": [
        {
          "output_type": "display_data",
          "data": {
            "text/plain": [
              "<Figure size 432x288 with 1 Axes>"
            ],
            "image/png": "[encoded data removed]"
          },
          "metadata": {
            "needs_background": "light"
          }
        }
      ]
    },
    {
      "cell_type": "code",
      "source": [
        "STDP.weight_plot(2, 1)"
      ],
      "metadata": {
        "colab": {
          "base_uri": "https://localhost:8080/",
          "height": 295
        },
        "id": "FoJkfA_3vBar",
        "outputId": "730765d2-85ef-4613-f200-2c8a1f15ae17"
      },
      "execution_count": 30,
      "outputs": [
        {
          "output_type": "display_data",
          "data": {
            "text/plain": [
              "<Figure size 432x288 with 1 Axes>"
            ],
            "image/png": "[encoded data removed]"
          },
          "metadata": {
            "needs_background": "light"
          }
        }
      ]
    },
    {
      "cell_type": "code",
      "source": [
        "neurons = []\n",
        "layers = [5, 2]\n",
        "\n",
        "for i in layers:\n",
        "    layer = []\n",
        "    for _ in range(i):\n",
        "        layer.append(SimpleLIFWithSingleStep(u_rest=random.randint(-85, -65), resistance=random.randint(1, 10), capacitance=random.randint(5, 8)/10, threshold=random.randint(-40, -35), u_reset=random.randint(-70, -65), u_start=random.randint(-75, -70)))\n",
        "    neurons.append(layer)"
      ],
      "metadata": {
        "id": "wWVbtYrqvhFM"
      },
      "execution_count": 13,
      "outputs": []
    },
    {
      "cell_type": "code",
      "source": [
        "weight_array = []\n",
        "connections = []\n",
        "\n",
        "for i in range(len(layers) - 1):\n",
        "    layer = []\n",
        "    layer2 = []\n",
        "    for j in range(layers[i]):\n",
        "        neuron = []\n",
        "        neuron2 = []\n",
        "        for k in range(layers[i+1]):\n",
        "            neuron.append(1)\n",
        "            neuron2.append(k)\n",
        "        layer.append(neuron)\n",
        "        layer2.append(neuron2)\n",
        "    weight_array.append(layer)\n",
        "    connections.append(layer2)\n",
        "print(weight_array)\n",
        "print(connections)"
      ],
      "metadata": {
        "colab": {
          "base_uri": "https://localhost:8080/"
        },
        "id": "80Amt9vsvkDr",
        "outputId": "ffca01d1-e290-4ce1-fa67-3b53d298ec29"
      },
      "execution_count": 14,
      "outputs": [
        {
          "output_type": "stream",
          "name": "stdout",
          "text": [
            "[[[1, 1], [1, 1], [1, 1], [1, 1], [1, 1]]]\n",
            "[[[0, 1], [0, 1], [0, 1], [0, 1], [0, 1]]]\n"
          ]
        }
      ]
    },
    {
      "cell_type": "code",
      "source": [
        "dataset = pd.read_excel('./CN_3_DATASET.xlsx')\n",
        "\n",
        "x_train = dataset.iloc[1:6,1:].values.T * 10000\n",
        "y_train = dataset.iloc[6,1:].values\n",
        "x_test = dataset.iloc[10:15,1:].values.T * 10000\n",
        "y_test = dataset.iloc[15,1:].values"
      ],
      "metadata": {
        "id": "wrxf7f7kvmZc"
      },
      "execution_count": 16,
      "outputs": []
    },
    {
      "cell_type": "code",
      "source": [
        "model = SpikingNeuralNetwork(network_dim=(5,2), neurons=neurons, tau_tag=15, tau_dopamine=12, reward_score=7)"
      ],
      "metadata": {
        "id": "QUMoz8l0wSv_"
      },
      "execution_count": 17,
      "outputs": []
    },
    {
      "cell_type": "code",
      "source": [
        "model.fit(x=x_train, y=y_train, dt=0.1, epoch_time=5, dt_minus=7, dt_plus=9, a_minus=-4, a_plus=+7, time_course_threshold=1, iterations=100, learn_time=0.5)"
      ],
      "metadata": {
        "id": "_uIxHXHswVO7"
      },
      "execution_count": 18,
      "outputs": []
    },
    {
      "cell_type": "code",
      "source": [
        "a = model.test_the_model(x_train, 100, 0.1, time_course_threshold=1)\n",
        "print(a)"
      ],
      "metadata": {
        "colab": {
          "base_uri": "https://localhost:8080/"
        },
        "id": "V9bhGG-xwz_M",
        "outputId": "58182d1f-42b7-4260-bf37-f9fa024ba3ca"
      },
      "execution_count": 19,
      "outputs": [
        {
          "output_type": "stream",
          "name": "stdout",
          "text": [
            "[1. 1. 1. 1. 1. 1. 0. 0. 1. 0.]\n"
          ]
        }
      ]
    },
    {
      "cell_type": "code",
      "source": [
        "count = 0\n",
        "for i, el in enumerate(a):\n",
        "    if el == y_train[i]:\n",
        "        count +=1\n",
        "print(count / len(a))"
      ],
      "metadata": {
        "colab": {
          "base_uri": "https://localhost:8080/"
        },
        "id": "vh9ycyinwh1i",
        "outputId": "365152dd-1c1b-480b-cb63-410eba713751"
      },
      "execution_count": 20,
      "outputs": [
        {
          "output_type": "stream",
          "name": "stdout",
          "text": [
            "0.7\n"
          ]
        }
      ]
    },
    {
      "cell_type": "code",
      "source": [
        "a = model.test_the_model(x_test, 100, 0.1, time_course_threshold=1)"
      ],
      "metadata": {
        "id": "mCKe_doIw3jy"
      },
      "execution_count": 21,
      "outputs": []
    },
    {
      "cell_type": "code",
      "source": [
        "count = 0\n",
        "for i, el in enumerate(a):\n",
        "    if el == y_test[i]:\n",
        "        count +=1\n",
        "print(count / len(a))"
      ],
      "metadata": {
        "colab": {
          "base_uri": "https://localhost:8080/"
        },
        "id": "1gcLeORyw6jH",
        "outputId": "1e80152a-944e-445c-83d5-a96090effdce"
      },
      "execution_count": 22,
      "outputs": [
        {
          "output_type": "stream",
          "name": "stdout",
          "text": [
            "0.8\n"
          ]
        }
      ]
    },
    {
      "cell_type": "code",
      "source": [
        "print(a)\n",
        "print(y_test)"
      ],
      "metadata": {
        "colab": {
          "base_uri": "https://localhost:8080/"
        },
        "id": "BxJi4bdFw8GZ",
        "outputId": "281dbd04-f963-42e1-e68a-92a4a0fed354"
      },
      "execution_count": 23,
      "outputs": [
        {
          "output_type": "stream",
          "name": "stdout",
          "text": [
            "[1. 1. 1. 1. 1. 1. 0. 0. 0. 0.]\n",
            "[1 1 1 1 1 0 0 0 1 0]\n"
          ]
        }
      ]
    }
  ]
}