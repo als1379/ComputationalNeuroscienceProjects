{
  "nbformat": 4,
  "nbformat_minor": 0,
  "metadata": {
    "colab": {
      "name": "NeuroScience_proj3.ipynb",
      "provenance": []
    },
    "kernelspec": {
      "name": "python3",
      "display_name": "Python 3"
    },
    "language_info": {
      "name": "python"
    }
  },
  "cells": [
    {
      "cell_type": "markdown",
      "source": [
        "Anita Soroush, 98222085, Computational Neuroscience, Project3"
      ],
      "metadata": {
        "id": "MErdUXgBPefY"
      }
    },
    {
      "cell_type": "code",
      "source": [
        "import matplotlib.pyplot as plt    \n",
        "import numpy as np                 \n",
        "import time      \n",
        "import math       \n",
        "import random"
      ],
      "metadata": {
        "id": "dks4tKQWPlt3"
      },
      "execution_count": 4,
      "outputs": []
    },
    {
      "cell_type": "code",
      "source": [
        "class LIF():\n",
        "    def __init__(self, I, T=100, dt=0.1, neuron_type=1,\n",
        "    V_th=-45, V_rest=-70, V_init=-80, V_reset=-65, V_spike=5, g_L=10, tau_m=8, \n",
        "    delta_T=1, theta_r_h=-55, a=0.01, b=0.5, tau_w=1):\n",
        "\n",
        "        ### typical neuron parameters###\n",
        "        self.neuron_type = neuron_type\n",
        "        self.v_t = []\n",
        "        self.fire_count = 0\n",
        "        self.v = V_init\n",
        "        self.V_init= V_init # initial potential [mV]\n",
        "        self.V_th = V_th # spike threshold [mV]\n",
        "        self.V_rest = V_rest #rest potential [mV]\n",
        "        self.V_reset = V_reset #reset potential [mV]\n",
        "        self.V_spike = V_spike\n",
        "        self.g_L = g_L #leak conductance [nS]\n",
        "        self.tau_m = tau_m # membrane time constant [ms]\n",
        "        self.tau_w = tau_w\n",
        "\n",
        "        ### simulation parameters ###\n",
        "        self.I = I\n",
        "        self.T = T # Total duration of simulation [ms]\n",
        "        self.dt = dt  # Simulation time step [ms]\n",
        "\n",
        "\n",
        "    def start(self):\n",
        "        t = 0\n",
        "        while t <= self.T:\n",
        "            \n",
        "            dv = (\n",
        "                -(self.v - self.V_rest) \n",
        "                + self.I(t) * self.g_L\n",
        "                )* (self.dt/self.tau_m)\n",
        "\n",
        "\n",
        "\n",
        "            self.v += dv * self.dt\n",
        "            if self.neuron_type == -1:\n",
        "                print(self.v)\n",
        "            is_spike = False\n",
        "            if self.v >= self.V_th:\n",
        "                self.v_t.append(self.v + self.V_spike)\n",
        "                self.fire_count += 1\n",
        "                self.v = self.V_reset\n",
        "                is_spike = True\n",
        "\n",
        "            else:\n",
        "                self.v_t.append(self.v)\n",
        "\n",
        "            t += self.dt\n",
        "\n",
        "            yield {'u': self.v, 'is_spike': is_spike}\n",
        "\n",
        "\n",
        "    def v_t_plot(self):\n",
        "        plt.plot(list(map(lambda i: i * self.dt, range(len(self.v_t)))), self.v_t)\n",
        "        plt.show()\n",
        "        self.a\n",
        "\n",
        "    def __repr__(self):\n",
        "        return \"This is object of class LIF\""
      ],
      "metadata": {
        "id": "AJy59BIcPqZS"
      },
      "execution_count": 2,
      "outputs": []
    },
    {
      "cell_type": "code",
      "source": [
        "class STDP_Learner_Population:\n",
        "\n",
        "    def __init__(self, neurons, connections, init_connection_weights, delay=1, iteration_count=1000):\n",
        "        self.neurons = neurons\n",
        "        self.neroun_action = []\n",
        "        for i in neurons:\n",
        "            self.neroun_action.append(i.start())\n",
        "\n",
        "        self.connections = connections                      # e.g. [(1, 3), (1, 5), (2, 4), (2, 3), (3, 5), (3, 4), (4, 1), (5, 2)]\n",
        "                                                            # in this case (1, 3) means that neuron 1 is presynaptic to neuron 3\n",
        "\n",
        "        self.connections_weights = init_connection_weights  # e.g. [3, 2, 5, 6, 9, 1, 10, 8]\n",
        "                                                            # each element indicates the weight of the related connection in the list of the connections\n",
        "                                                            # for example the third element here which is 5 relates to the third connection which is (2, 5)\n",
        "        \n",
        "        # self.w_init = w_init\n",
        "        self.iteration_count = iteration_count\n",
        "        self.spikes = []\n",
        "        self.spikes_time = []\n",
        "        self.delay = delay\n",
        "        self.spikes_effect = []\n",
        "\n",
        "        self.time_range = []\n",
        "        self.w_t = [[0] * self.iteration_count for _ in range(len(connections))]\n",
        "\n",
        "    def start(self):\n",
        "        self.spikes_effect = [[0] * len(self.neurons) for _ in range(self.iteration_count)]\n",
        "        for t in range(self.iteration_count):\n",
        "            self.time_range.append(t)\n",
        "            flag = False\n",
        "      \n",
        "            for i in range(len(self.neroun_action)):\n",
        "\n",
        "                action_info = next(self.neroun_action[i])\n",
        "                if action_info['is_spike']:\n",
        "                    self.spikes.append(i + 1)\n",
        "                    self.spikes_time.append(t)\n",
        "\n",
        "                    idx = 0\n",
        "                    for connection in self.connections:\n",
        "\n",
        "                        if connection[0] == i+1:   # if neuron i is the pre-synaptic neuron in this connection:\n",
        "                            if t+self.delay < self.iteration_count:\n",
        "                                self.spikes_effect[t + self.delay][connection[1]-1] += self.connections_weights[idx]\n",
        "\n",
        "                            spike_idx = len(self.spikes)-1\n",
        "                            for spike in reversed(self.spikes):\n",
        "                                if spike == connection[1]:\n",
        "                                    t_post_minus_t_pre = self.spikes_time[spike_idx] - t\n",
        "                                    self.connections_weights[idx] = self.connections_weights[idx] + 25*math.exp(-abs(t_post_minus_t_pre)/5)\n",
        "                                    # print(self.connections_weights)\n",
        "                                    break\n",
        "                                spike_idx -= 1\n",
        "\n",
        "                        elif connection[1] == i+1: # if neuron i is the post-synaptic neuron in this connection:\n",
        "                            for spike in reversed(self.spikes):\n",
        "                                if spike == connection[0]:\n",
        "                                    t_post_minus_t_pre = t - self.spikes_time[spike_idx]\n",
        "                                    self.connections_weights[idx] = self.connections_weights[idx] - 25*math.exp(-abs(t_post_minus_t_pre)/5)\n",
        "                                    break\n",
        "\n",
        "                        idx += 1\n",
        "\n",
        "                connection_idx = 0\n",
        "                for connection_weight in self.connections_weights:\n",
        "                    self.w_t[connection_idx][t] = self.connections_weights[connection_idx]\n",
        "                    connection_idx += 1\n",
        "\n",
        "\n",
        "            for i in range(len(self.neurons)):\n",
        "                self.neurons[i].v += self.spikes_effect[t][i]\n",
        "\n",
        "        print(self.connections_weights)\n",
        "      \n",
        "\n",
        "    def neurons_u_plot(self, neurons_count=5):\n",
        "        legend = []\n",
        "        for i in range(min(neurons_count, len(self.neurons))):\n",
        "            plt.plot(list(map(lambda j: j * self.neurons[i].dt, range(len(self.neurons[i].v_t)))), self.neurons[i].v_t)\n",
        "            legend.append('neuron ' + str(i+1))\n",
        "        plt.legend(legend)\n",
        "\n",
        "    def raster_plot(self):\n",
        "        plt.scatter(self.spikes_time, self.spikes, color='blue', s=10)\n",
        "    \n",
        "    def w_t_plot(self, pre, post):\n",
        "        idx=0\n",
        "        for connection in self.connections:\n",
        "            if connection[0] == pre and connection[1] == post:\n",
        "                break\n",
        "            idx += 1\n",
        "        \n",
        "        plt.plot(self.time_range, self.w_t[idx], color='blue')"
      ],
      "metadata": {
        "id": "ik3jEyMlPwVF"
      },
      "execution_count": 13,
      "outputs": []
    },
    {
      "cell_type": "code",
      "source": [
        "# I1 = lambda x: 100\n",
        "# I2 = lambda x: 1\n",
        "# I3 = lambda x: 10\n",
        "\n",
        "I1 = lambda x: 50\n",
        "I2 = lambda x: 30\n",
        "I3 = lambda x: 20\n",
        "\n",
        "neuron1 = LIF(I=I1, tau_m=20)\n",
        "neuron2 = LIF(I=I2, tau_m=20)\n",
        "neuron3 = LIF(I=I3, tau_m=20)\n",
        "\n",
        "neurons = [neuron1, neuron2, neuron3]\n",
        "\n",
        "connections = [(1, 2), (1, 3), (2, 1), (2, 3), (3, 1), (3, 2)]\n",
        "init_connection_weights = [10, 10, 10, 10, 10, 10]"
      ],
      "metadata": {
        "id": "Nwy_KYtEPzzo"
      },
      "execution_count": 14,
      "outputs": []
    },
    {
      "cell_type": "code",
      "source": [
        "STDP_learner_population = STDP_Learner_Population(neurons, connections, init_connection_weights, delay=1, iteration_count=1000)\n",
        "STDP_learner_population.start()"
      ],
      "metadata": {
        "colab": {
          "base_uri": "https://localhost:8080/"
        },
        "id": "5I_oxbkSfSmx",
        "outputId": "c7a9e0e4-2181-46a1-9175-2d9518eba333"
      },
      "execution_count": 15,
      "outputs": [
        {
          "output_type": "stream",
          "name": "stdout",
          "text": [
            "[-3.764743276150938, 1.7580021872834368, -6.161019526329569, 1.7580011508910263, -5.982462533189049, 10.000000000001524]\n"
          ]
        }
      ]
    },
    {
      "cell_type": "code",
      "source": [
        "STDP_learner_population.neurons_u_plot()"
      ],
      "metadata": {
        "colab": {
          "base_uri": "https://localhost:8080/",
          "height": 265
        },
        "id": "ykDBnqIvgPd8",
        "outputId": "adc8c32b-a7a6-4653-9929-4e87ef225bba"
      },
      "execution_count": 16,
      "outputs": [
        {
          "output_type": "display_data",
          "data": {
            "text/plain": [
              "<Figure size 432x288 with 1 Axes>"
            ],
            "image/png": "[encoded data removed]"
          },
          "metadata": {
            "needs_background": "light"
          }
        }
      ]
    },
    {
      "cell_type": "code",
      "source": [
        "STDP_learner_population.w_t_plot(1,2)"
      ],
      "metadata": {
        "colab": {
          "base_uri": "https://localhost:8080/",
          "height": 265
        },
        "id": "vN3dtMGrxbWV",
        "outputId": "4718f5a1-7413-432d-e0a3-bf5a83046f34"
      },
      "execution_count": 17,
      "outputs": [
        {
          "output_type": "display_data",
          "data": {
            "text/plain": [
              "<Figure size 432x288 with 1 Axes>"
            ],
            "image/png": "[encoded data removed]"
          },
          "metadata": {
            "needs_background": "light"
          }
        }
      ]
    },
    {
      "cell_type": "code",
      "source": [
        "STDP_learner_population.w_t_plot(1,3)"
      ],
      "metadata": {
        "colab": {
          "base_uri": "https://localhost:8080/",
          "height": 265
        },
        "id": "1h6C2jNFxk-d",
        "outputId": "c541ab0f-5dfd-47cf-f0db-948caf9a0e14"
      },
      "execution_count": 18,
      "outputs": [
        {
          "output_type": "display_data",
          "data": {
            "text/plain": [
              "<Figure size 432x288 with 1 Axes>"
            ],
            "image/png": "[encoded data removed]"
          },
          "metadata": {
            "needs_background": "light"
          }
        }
      ]
    },
    {
      "cell_type": "code",
      "source": [
        "STDP_learner_population.w_t_plot(2,1)"
      ],
      "metadata": {
        "colab": {
          "base_uri": "https://localhost:8080/",
          "height": 265
        },
        "id": "1D5QwCVTxlRV",
        "outputId": "94613244-7c4b-4702-bf5e-1928ceb20335"
      },
      "execution_count": 19,
      "outputs": [
        {
          "output_type": "display_data",
          "data": {
            "text/plain": [
              "<Figure size 432x288 with 1 Axes>"
            ],
            "image/png": "[encoded data removed]"
          },
          "metadata": {
            "needs_background": "light"
          }
        }
      ]
    },
    {
      "cell_type": "code",
      "source": [
        "STDP_learner_population.w_t_plot(2,3)"
      ],
      "metadata": {
        "colab": {
          "base_uri": "https://localhost:8080/",
          "height": 265
        },
        "id": "3YU0uWCJxlaW",
        "outputId": "dc6d4b25-5085-4e4a-befd-a3b2f743d1d0"
      },
      "execution_count": 20,
      "outputs": [
        {
          "output_type": "display_data",
          "data": {
            "text/plain": [
              "<Figure size 432x288 with 1 Axes>"
            ],
            "image/png": "[encoded data removed]"
          },
          "metadata": {
            "needs_background": "light"
          }
        }
      ]
    },
    {
      "cell_type": "code",
      "source": [
        "STDP_learner_population.w_t_plot(3,1)"
      ],
      "metadata": {
        "colab": {
          "base_uri": "https://localhost:8080/",
          "height": 265
        },
        "id": "54Vz6SEcxlrT",
        "outputId": "edf759b3-d856-4ffd-df27-105ef5504677"
      },
      "execution_count": 21,
      "outputs": [
        {
          "output_type": "display_data",
          "data": {
            "text/plain": [
              "<Figure size 432x288 with 1 Axes>"
            ],
            "image/png": "[encoded data removed]"
          },
          "metadata": {
            "needs_background": "light"
          }
        }
      ]
    },
    {
      "cell_type": "code",
      "source": [
        "STDP_learner_population.w_t_plot(3,2)"
      ],
      "metadata": {
        "colab": {
          "base_uri": "https://localhost:8080/",
          "height": 268
        },
        "id": "CisyMvFJxsvT",
        "outputId": "e17e12fc-1145-413c-8f4a-868e7b0b60f0"
      },
      "execution_count": 22,
      "outputs": [
        {
          "output_type": "display_data",
          "data": {
            "text/plain": [
              "<Figure size 432x288 with 1 Axes>"
            ],
            "image/png": "[encoded data removed]"
          },
          "metadata": {
            "needs_background": "light"
          }
        }
      ]
    },
    {
      "cell_type": "code",
      "source": [
        "STDP_learner_population.raster_plot()"
      ],
      "metadata": {
        "colab": {
          "base_uri": "https://localhost:8080/",
          "height": 265
        },
        "id": "otwos1cW1Uy4",
        "outputId": "ee5cc1bc-8004-4edc-8c58-c68a88e11774"
      },
      "execution_count": 23,
      "outputs": [
        {
          "output_type": "display_data",
          "data": {
            "text/plain": [
              "<Figure size 432x288 with 1 Axes>"
            ],
            "image/png": "[encoded data removed]"
          },
          "metadata": {
            "needs_background": "light"
          }
        }
      ]
    },
    {
      "cell_type": "code",
      "source": [
        "I1 = lambda x: 20* (math.sin(x/10) + 0.9)\n",
        "I1 = lambda x: 50\n",
        "I2 = lambda x: 80* (math.sin(x/10) + 0.9)\n",
        "\n",
        "neuron1 = LIF(I=I1, tau_m=20)\n",
        "neuron2 = LIF(I=I2, tau_m=20)\n",
        "neuron3 = LIF(I=I3, tau_m=20)\n",
        "\n",
        "neurons = [neuron1, neuron2, neuron3]\n",
        "\n",
        "connections = [(1, 2), (1, 3), (2, 1), (2, 3), (3, 1), (3, 2)]\n",
        "init_connection_weights = [10, 10, 10, 10, 10, 10]"
      ],
      "metadata": {
        "id": "9KpxTz8ozhjF"
      },
      "execution_count": 24,
      "outputs": []
    },
    {
      "cell_type": "code",
      "source": [
        "STDP_learner_population = STDP_Learner_Population(neurons, connections, init_connection_weights, delay=1, iteration_count=1000)\n",
        "STDP_learner_population.start()"
      ],
      "metadata": {
        "colab": {
          "base_uri": "https://localhost:8080/"
        },
        "outputId": "cbe46cb3-35a4-4771-9757-c9c47e004238",
        "id": "fPaG4wtY0EGc"
      },
      "execution_count": 25,
      "outputs": [
        {
          "output_type": "stream",
          "name": "stdout",
          "text": [
            "[3024.2822544003593, -14.958460897062762, 3031.561598375236, 1.8199702105708213, 23.678751799413426, 9.938030940320163]\n"
          ]
        }
      ]
    },
    {
      "cell_type": "code",
      "source": [
        "STDP_learner_population.neurons_u_plot()"
      ],
      "metadata": {
        "colab": {
          "base_uri": "https://localhost:8080/",
          "height": 265
        },
        "outputId": "d436e8e7-f04f-4dad-a728-d3fb13a1243f",
        "id": "Kv4_zzUw0EGk"
      },
      "execution_count": 26,
      "outputs": [
        {
          "output_type": "display_data",
          "data": {
            "text/plain": [
              "<Figure size 432x288 with 1 Axes>"
            ],
            "image/png": "[encoded data removed]"
          },
          "metadata": {
            "needs_background": "light"
          }
        }
      ]
    },
    {
      "cell_type": "code",
      "source": [
        "STDP_learner_population.w_t_plot(1,2)"
      ],
      "metadata": {
        "colab": {
          "base_uri": "https://localhost:8080/",
          "height": 265
        },
        "outputId": "a7c38f94-c2eb-4835-9a7e-f9e956d7fd9c",
        "id": "n-urhi290EGk"
      },
      "execution_count": 27,
      "outputs": [
        {
          "output_type": "display_data",
          "data": {
            "text/plain": [
              "<Figure size 432x288 with 1 Axes>"
            ],
            "image/png": "[encoded data removed]"
          },
          "metadata": {
            "needs_background": "light"
          }
        }
      ]
    },
    {
      "cell_type": "code",
      "source": [
        "STDP_learner_population.w_t_plot(1,3)"
      ],
      "metadata": {
        "colab": {
          "base_uri": "https://localhost:8080/",
          "height": 265
        },
        "outputId": "7f5e692a-c4ae-4a29-e504-0c6e202f2e71",
        "id": "mGir917d0EGk"
      },
      "execution_count": 28,
      "outputs": [
        {
          "output_type": "display_data",
          "data": {
            "text/plain": [
              "<Figure size 432x288 with 1 Axes>"
            ],
            "image/png": "[encoded data removed]"
          },
          "metadata": {
            "needs_background": "light"
          }
        }
      ]
    },
    {
      "cell_type": "code",
      "source": [
        "STDP_learner_population.w_t_plot(2,1)"
      ],
      "metadata": {
        "colab": {
          "base_uri": "https://localhost:8080/",
          "height": 265
        },
        "outputId": "f29bd5f6-9dfd-45cc-93df-689497bf7470",
        "id": "aSe_hp700EGk"
      },
      "execution_count": 29,
      "outputs": [
        {
          "output_type": "display_data",
          "data": {
            "text/plain": [
              "<Figure size 432x288 with 1 Axes>"
            ],
            "image/png": "[encoded data removed]"
          },
          "metadata": {
            "needs_background": "light"
          }
        }
      ]
    },
    {
      "cell_type": "code",
      "source": [
        "STDP_learner_population.w_t_plot(2,3)"
      ],
      "metadata": {
        "colab": {
          "base_uri": "https://localhost:8080/",
          "height": 265
        },
        "outputId": "cef92d0c-4727-4133-9b68-ecb4ec1f133f",
        "id": "UCowVk050EGk"
      },
      "execution_count": 30,
      "outputs": [
        {
          "output_type": "display_data",
          "data": {
            "text/plain": [
              "<Figure size 432x288 with 1 Axes>"
            ],
            "image/png": "[encoded data removed]"
          },
          "metadata": {
            "needs_background": "light"
          }
        }
      ]
    },
    {
      "cell_type": "code",
      "source": [
        "STDP_learner_population.w_t_plot(3,1)"
      ],
      "metadata": {
        "colab": {
          "base_uri": "https://localhost:8080/",
          "height": 265
        },
        "outputId": "3478292b-8ea6-4c7b-b42c-ef5ad9ed9d03",
        "id": "cO4-xtgU0EGk"
      },
      "execution_count": 31,
      "outputs": [
        {
          "output_type": "display_data",
          "data": {
            "text/plain": [
              "<Figure size 432x288 with 1 Axes>"
            ],
            "image/png": "[encoded data removed]"
          },
          "metadata": {
            "needs_background": "light"
          }
        }
      ]
    },
    {
      "cell_type": "code",
      "source": [
        "STDP_learner_population.w_t_plot(3,2)"
      ],
      "metadata": {
        "colab": {
          "base_uri": "https://localhost:8080/",
          "height": 268
        },
        "outputId": "ce32afca-4949-4a0b-f4b1-246473f8652c",
        "id": "97k8keNO0EGl"
      },
      "execution_count": 32,
      "outputs": [
        {
          "output_type": "display_data",
          "data": {
            "text/plain": [
              "<Figure size 432x288 with 1 Axes>"
            ],
            "image/png": "[encoded data removed]"
          },
          "metadata": {
            "needs_background": "light"
          }
        }
      ]
    },
    {
      "cell_type": "code",
      "source": [
        "STDP_learner_population.raster_plot()"
      ],
      "metadata": {
        "colab": {
          "base_uri": "https://localhost:8080/",
          "height": 265
        },
        "id": "JSTSLOze0flE",
        "outputId": "d3e10e0a-b9e4-4633-b5ea-f4e5d85bc234"
      },
      "execution_count": 33,
      "outputs": [
        {
          "output_type": "display_data",
          "data": {
            "text/plain": [
              "<Figure size 432x288 with 1 Axes>"
            ],
            "image/png": "[encoded data removed]"
          },
          "metadata": {
            "needs_background": "light"
          }
        }
      ]
    },
    {
      "cell_type": "code",
      "source": [
        "class Reward_Based_STDP_Learner_Population:\n",
        "\n",
        "    def __init__(self, neurons, connections, init_connection_weights ,output_layer, \n",
        "                 target_neuron, mode='train', delay=1, iteration_count=1000):\n",
        "        self.neurons = neurons\n",
        "        self.mode = mode\n",
        "        self.output_layer = output_layer\n",
        "        self.target_neuron = target_neuron\n",
        "        self.neroun_action = []\n",
        "        for i in neurons:\n",
        "            self.neroun_action.append(i.start())\n",
        "\n",
        "        self.connections = connections                      # e.g. [(1, 3), (1, 5), (2, 4), (2, 3), (3, 5), (3, 4), (4, 1), (5, 2)]\n",
        "                                                            # in this case (1, 3) means that neuron 1 is presynaptic to neuron 3\n",
        "\n",
        "        self.connections_weights = init_connection_weights  # e.g. [3, 2, 5, 6, 9, 1, 10, 8]\n",
        "                                                            # each element indicates the weight of the related connection in the list of the connections\n",
        "                                                            # for example the third element here which is 5 relates to the third connection which is (2, 5)\n",
        "        \n",
        "        # self.w_init = w_init\n",
        "        self.iteration_count = iteration_count\n",
        "        self.spikes = []\n",
        "        self.spikes_time = []\n",
        "        self.delay = delay\n",
        "        self.spikes_effect = []\n",
        "\n",
        "        self.time_range = []\n",
        "        self.w_t = [[0] * self.iteration_count for _ in range(len(connections))]\n",
        "\n",
        "    def start(self):\n",
        "        self.spikes_effect = [[0] * len(self.neurons) for _ in range(self.iteration_count)]\n",
        "        for t in range(self.iteration_count):\n",
        "            self.time_range.append(t)\n",
        "            flag = False\n",
        "      \n",
        "            for i in range(len(self.neroun_action)):\n",
        "\n",
        "                action_info = next(self.neroun_action[i])\n",
        "\n",
        "                if action_info['is_spike']:\n",
        "                    if i+1 in self.output_layer:\n",
        "\n",
        "                        # just train mode:\n",
        "                        if self.mode == 'train':\n",
        "                            if i+1 == self.target_neuron:\n",
        "                                DA = 10\n",
        "                            else:\n",
        "                                DA = 1/2\n",
        "                            connection_idx = 0\n",
        "                            for connection_weight in self.connections_weights:\n",
        "                                self.connections_weights[connection_idx] *= DA\n",
        "                                connection_idx += 1\n",
        "\n",
        "                        # just test mode:\n",
        "                        if self.mode == 'test':\n",
        "                            return self.connections_weights, t, i+1 == self.target_neuron\n",
        "\n",
        "\n",
        "                    self.spikes.append(i + 1)\n",
        "                    self.spikes_time.append(t)\n",
        "\n",
        "                    idx = 0\n",
        "                    for connection in self.connections:\n",
        "\n",
        "                        if connection[0] == i+1:   # if neuron i is the pre-synaptic neuron in this connection:\n",
        "                            \n",
        "                            # both test mode and train mode:\n",
        "                            if t+self.delay < self.iteration_count:\n",
        "                                self.spikes_effect[t + self.delay][connection[1]-1] += self.connections_weights[idx]\n",
        "\n",
        "\n",
        "                            # just train mode:\n",
        "                            if self.mode == 'train':\n",
        "                                spike_idx = len(self.spikes)-1\n",
        "                                for spike in reversed(self.spikes):\n",
        "                                    if spike == connection[1]:\n",
        "                                        t_post_minus_t_pre = self.spikes_time[spike_idx] - t\n",
        "                                        self.connections_weights[idx] = self.connections_weights[idx] + 25*math.exp(-abs(t_post_minus_t_pre)/5)\n",
        "                                        # print(self.connections_weights)\n",
        "                                        break\n",
        "                                    spike_idx -= 1\n",
        "\n",
        "\n",
        "                        elif connection[1] == i+1: # if neuron i is the post-synaptic neuron in this connection:\n",
        "\n",
        "                            # just train mode:\n",
        "                            if self.mode == 'train':\n",
        "                                for spike in reversed(self.spikes):\n",
        "                                    if spike == connection[0]:\n",
        "                                        t_post_minus_t_pre = t - self.spikes_time[spike_idx]\n",
        "                                        self.connections_weights[idx] = self.connections_weights[idx] - 25*math.exp(-abs(t_post_minus_t_pre)/5)\n",
        "                                        break\n",
        "\n",
        "                        idx += 1\n",
        "                \n",
        "                \n",
        "                connection_idx = 0\n",
        "                for connection_weight in self.connections_weights:\n",
        "                    self.w_t[connection_idx][t] = self.connections_weights[connection_idx]\n",
        "                    connection_idx += 1\n",
        "\n",
        "            for i in range(len(self.neurons)):\n",
        "                self.neurons[i].v += self.spikes_effect[t][i]\n",
        "\n",
        "        if self.mode == 'train':\n",
        "            return self.connections_weights, self.iteration_count\n",
        "        else: \n",
        "            return self.connections_weights, self.iteration_count, False\n",
        "      \n",
        "\n",
        "    def neurons_u_plot(self):\n",
        "        legend = []\n",
        "        for i in range(len(self.neurons)):\n",
        "            plt.plot(list(map(lambda j: j * self.neurons[i].dt, range(len(self.neurons[i].v_t)))), self.neurons[i].v_t)\n",
        "            legend.append('neuron ' + str(i+1))\n",
        "        plt.legend(legend)\n",
        "\n",
        "    def raster_plot(self):\n",
        "        plt.scatter(self.spikes_time, self.spikes, color='blue', s=10)\n",
        "\n",
        "    def w_t_plot(self):\n",
        "        plt.figure(0)\n",
        "        plots = []\n",
        "        idx=0\n",
        "        for i in range(5):\n",
        "            for j in range(2):\n",
        "                ax = plt.subplot2grid((5,2), (i,j))\n",
        "                ax.plot(self.time_range, self.w_t[idx], color='blue')\n",
        "                # ax.legend('pre-synaptic:', connections[idx][0], '\\npost-synaptic:', connections[idx][1])\n",
        "                # title = 'pre-synaptic:'+ str(connections[idx][0])+ '\\npost-synaptic:'+ str(connections[idx][1])\n",
        "                # ax.text(title)\n",
        "                idx += 1\n",
        "        plt.show()\n",
        "\n",
        "    def w_t_plot(self, pre, post):\n",
        "        idx=0\n",
        "        for connection in self.connections:\n",
        "            if connection[0] == pre and connection[1] == post:\n",
        "                break\n",
        "            idx += 1\n",
        "        \n",
        "        plt.plot(self.time_range, self.w_t[idx], color='blue')"
      ],
      "metadata": {
        "id": "CpEO63aMf10D"
      },
      "execution_count": 41,
      "outputs": []
    },
    {
      "cell_type": "code",
      "source": [
        "def traing_step(step_number, input_currents, target_neuron, connection_weights):\n",
        "    neurons = []\n",
        "\n",
        "    # input layer:\n",
        "    for iterator in range(5):\n",
        "        neurons.append(LIF(I=lambda x: input_currents[iterator]*10, tau_m=20))\n",
        "\n",
        "    # output layer\n",
        "    for iterator in range(2):\n",
        "        neurons.append(LIF(I=lambda x: 0, tau_m=20))\n",
        "\n",
        "    connections =  [(1, 6), (1, 7), \n",
        "                    (2, 6), (2, 7), \n",
        "                    (3, 6), (3, 7), \n",
        "                    (4, 6), (4, 7), \n",
        "                    (5, 6), (5, 7)]\n",
        "    if step_number == 1:\n",
        "        connection_weights=[10, 10, \n",
        "                            10, 10, \n",
        "                            10, 10,\n",
        "                            10, 10,\n",
        "                            10, 10]\n",
        "    reward_based_STDP_learner_population = Reward_Based_STDP_Learner_Population(neurons, connections, connection_weights, \n",
        "                                            delay=1, iteration_count=1000, output_layer = [6,7], target_neuron = target_neuron + 6, mode='train')\n",
        "    connection_weights, ending_iteration = reward_based_STDP_learner_population.start()\n",
        "    print(ending_iteration)\n",
        "    return connection_weights"
      ],
      "metadata": {
        "id": "8Rso7fQ5gSw0"
      },
      "execution_count": 42,
      "outputs": []
    },
    {
      "cell_type": "code",
      "source": [
        "def testing_step(input_currents, target_neuron, connection_weights):\n",
        "    neurons = []\n",
        "\n",
        "    # input layer:\n",
        "    for iterator in range(5):\n",
        "        neurons.append(LIF(I=lambda x: input_currents[iterator]*10, tau_m=20))\n",
        "\n",
        "    # output layer\n",
        "    for iterator in range(2):\n",
        "        neurons.append(LIF(I=lambda x: 0, tau_m=20))\n",
        "\n",
        "    connections =  [(1, 6), (1, 7), \n",
        "                    (2, 6), (2, 7), \n",
        "                    (3, 6), (3, 7), \n",
        "                    (4, 6), (4, 7), \n",
        "                    (5, 6), (5, 7)]\n",
        "\n",
        "    reward_based_STDP_learner_population = Reward_Based_STDP_Learner_Population(neurons, connections, connection_weights, \n",
        "                                            delay=1, iteration_count=1000, output_layer = [6,7], target_neuron = target_neuron + 6, mode='test')\n",
        "    connection_weights, ending_iteration, last_spike = reward_based_STDP_learner_population.start()\n",
        "    print(ending_iteration)\n",
        "    print(last_spike)\n",
        "    return connection_weights"
      ],
      "metadata": {
        "id": "UkDVTn0mAOu5"
      },
      "execution_count": 43,
      "outputs": []
    },
    {
      "cell_type": "code",
      "source": [
        "train= [([1,1,0,0,0], 1), \n",
        "        ([2,1,1,0,0], 1), \n",
        "        ([3,1,0,0,0], 1), \n",
        "        ([2,0,0,0,0], 1), \n",
        "        ([1,1,0,0,1], 0), \n",
        "        ([1,0,0,0,2], 0), \n",
        "        ([0,1,0,3,0], 0), \n",
        "        ([0,0,0,1,1], 0), \n",
        "        ([0,0,0,0,1], 0), \n",
        "        ([2,2,2,1,2], 1)]"
      ],
      "metadata": {
        "id": "BBaJTOwxQqz7"
      },
      "execution_count": 44,
      "outputs": []
    },
    {
      "cell_type": "code",
      "source": [
        "connection_weights = []\n",
        "learning_step = 1\n",
        "for data in train:\n",
        "    connection_weights= traing_step(step_number = learning_step, \n",
        "                                    input_currents = data[0], \n",
        "                                    target_neuron = data[1], \n",
        "                                    connection_weights = connection_weights)\n",
        "    print(connection_weights)\n",
        "    learning_step += 1"
      ],
      "metadata": {
        "colab": {
          "base_uri": "https://localhost:8080/"
        },
        "id": "Bf9ZVLnnvkME",
        "outputId": "92aa0ed1-191d-4616-cacb-b1d825b32736"
      },
      "execution_count": 45,
      "outputs": [
        {
          "output_type": "stream",
          "name": "stdout",
          "text": [
            "1000\n",
            "[-200.0, 25.0, -200.0, 25.0, -200.0, 25.0, -200.0, 25.0, -200.0, 25.0]\n",
            "1000\n",
            "[-2000.0, 225.0, -2000.0, 225.0, -2000.0, 225.0, -2000.0, 225.0, -2000.0, 225.0]\n",
            "1000\n",
            "[-20000.0, 2225.0, -20000.0, 2225.0, -20000.0, 2225.0, -20000.0, 2225.0, -20000.0, 2225.0]\n",
            "1000\n",
            "[-20000.0, 2225.0, -20000.0, 2225.0, -20000.0, 2225.0, -20000.0, 2225.0, -20000.0, 2225.0]\n",
            "1000\n",
            "[-10000.0, 1087.5, -10000.0, 1087.5, -10000.0, 1087.5, -10000.0, 1087.5, -10000.0, 1087.5]\n",
            "1000\n",
            "[-10000.0, 1087.5, -10000.0, 1087.5, -10000.0, 1087.5, -10000.0, 1087.5, -10000.0, 1087.5]\n",
            "1000\n",
            "[-5000.0, 518.75, -5000.0, 518.75, -5000.0, 518.75, -5000.0, 518.75, -5000.0, 518.75]\n",
            "1000\n",
            "[-5000.0, 518.75, -5000.0, 518.75, -5000.0, 518.75, -5000.0, 518.75, -5000.0, 518.75]\n",
            "1000\n",
            "[-5000.0, 518.75, -5000.0, 518.75, -5000.0, 518.75, -5000.0, 518.75, -5000.0, 518.75]\n",
            "1000\n",
            "[-5000000.0, 516250.0, -5000000.0, 516250.0, -5000000.0, 516250.0, -5000000.0, 516250.0, -5000000.0, 516250.0]\n"
          ]
        }
      ]
    },
    {
      "cell_type": "code",
      "source": [
        "test = [([1,0,0,0,0], 1), \n",
        "        ([0,1,0,0,0], 1), \n",
        "        ([0,2,0,0,0], 1), \n",
        "        ([2,2,1,0,0], 1), \n",
        "        ([1,2,0,0,0], 1), \n",
        "        ([1,0,0,0,3], 0), \n",
        "        ([3,1,0,2,3], 0), \n",
        "        ([0,0,2,2,2], 0), \n",
        "        ([1,2,0,1,1], 1), \n",
        "        ([2,2,2,3,3], 0)]"
      ],
      "metadata": {
        "id": "c-8eI9Mw_zbo"
      },
      "execution_count": 46,
      "outputs": []
    },
    {
      "cell_type": "code",
      "source": [
        "for data in test:\n",
        "    connection_weights= testing_step(input_currents = data[0], \n",
        "                                    target_neuron = data[1], \n",
        "                                    connection_weights = connection_weights)\n",
        "    print(connection_weights)"
      ],
      "metadata": {
        "colab": {
          "base_uri": "https://localhost:8080/"
        },
        "id": "5JyKsCsAZDMG",
        "outputId": "5044bb70-46e4-4208-9a4c-ff3b83389408"
      },
      "execution_count": 47,
      "outputs": [
        {
          "output_type": "stream",
          "name": "stdout",
          "text": [
            "1000\n",
            "False\n",
            "[-5000000.0, 516250.0, -5000000.0, 516250.0, -5000000.0, 516250.0, -5000000.0, 516250.0, -5000000.0, 516250.0]\n",
            "767\n",
            "True\n",
            "[-5000000.0, 516250.0, -5000000.0, 516250.0, -5000000.0, 516250.0, -5000000.0, 516250.0, -5000000.0, 516250.0]\n",
            "366\n",
            "True\n",
            "[-5000000.0, 516250.0, -5000000.0, 516250.0, -5000000.0, 516250.0, -5000000.0, 516250.0, -5000000.0, 516250.0]\n",
            "366\n",
            "True\n",
            "[-5000000.0, 516250.0, -5000000.0, 516250.0, -5000000.0, 516250.0, -5000000.0, 516250.0, -5000000.0, 516250.0]\n",
            "366\n",
            "True\n",
            "[-5000000.0, 516250.0, -5000000.0, 516250.0, -5000000.0, 516250.0, -5000000.0, 516250.0, -5000000.0, 516250.0]\n",
            "1000\n",
            "False\n",
            "[-5000000.0, 516250.0, -5000000.0, 516250.0, -5000000.0, 516250.0, -5000000.0, 516250.0, -5000000.0, 516250.0]\n",
            "767\n",
            "False\n",
            "[-5000000.0, 516250.0, -5000000.0, 516250.0, -5000000.0, 516250.0, -5000000.0, 516250.0, -5000000.0, 516250.0]\n",
            "1000\n",
            "False\n",
            "[-5000000.0, 516250.0, -5000000.0, 516250.0, -5000000.0, 516250.0, -5000000.0, 516250.0, -5000000.0, 516250.0]\n",
            "366\n",
            "True\n",
            "[-5000000.0, 516250.0, -5000000.0, 516250.0, -5000000.0, 516250.0, -5000000.0, 516250.0, -5000000.0, 516250.0]\n",
            "366\n",
            "False\n",
            "[-5000000.0, 516250.0, -5000000.0, 516250.0, -5000000.0, 516250.0, -5000000.0, 516250.0, -5000000.0, 516250.0]\n"
          ]
        }
      ]
    }
  ]
}