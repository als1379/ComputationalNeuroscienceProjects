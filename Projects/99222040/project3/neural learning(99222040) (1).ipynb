{
 "cells": [
  {
   "cell_type": "code",
   "execution_count": 170,
   "id": "0b0c70de",
   "metadata": {},
   "outputs": [],
   "source": [
    "import matplotlib.pyplot as plt    \n",
    "import numpy as np                 \n",
    "import time\n",
    "import random\n",
    "import math       "
   ]
  },
  {
   "cell_type": "code",
   "execution_count": 171,
   "id": "c896d614",
   "metadata": {},
   "outputs": [],
   "source": [
    "class LIF():\n",
    "    def __init__(self, I, T=100, steps=0.1, n_type=1,\n",
    "    v_threshold=-45, v_rest=-70, v_init=-80, v_reset=-65, v_spike=5, g_L=10, tau_m=20, delta_T=1, theta_r_h=-55, a=0.01, b=0.5, tau_w=1):\n",
    "\n",
    "        self.v_t = []\n",
    "        self.n_type = n_type\n",
    "        self.fire_counter = 0\n",
    "        \n",
    "        self.v = v_init\n",
    "        self.v_init= v_init \n",
    "        self.v_threshold = v_threshold \n",
    "        self.v_rest = v_rest \n",
    "        self.v_reset = v_reset\n",
    "        self.v_spike = v_spike\n",
    "        \n",
    "        self.g_L = g_L \n",
    "        \n",
    "        self.tau_m = tau_m \n",
    "        self.tau_w = tau_w\n",
    "        \n",
    "        self.T = T \n",
    "        self.I = I\n",
    "        \n",
    "        self.steps = steps\n",
    "\n",
    "    def start(self):\n",
    "        t = 0\n",
    "        while t <= self.T:\n",
    "            \n",
    "            dv = (-(self.v - self.v_rest) + self.I(t) * self.g_L)* (self.steps/self.tau_m)\n",
    "            self.v += dv * self.steps\n",
    "            \n",
    "            if self.n_type == -1:\n",
    "                print(self.v)\n",
    "            spiked = False\n",
    "            \n",
    "            if self.v >= self.v_threshold:\n",
    "                self.v_t.append(self.v + self.v_spike)\n",
    "                self.fire_counter += 1\n",
    "                self.v = self.v_reset\n",
    "                spiked = True\n",
    "                \n",
    "            else:\n",
    "                self.v_t.append(self.v)\n",
    "            t += self.steps\n",
    "\n",
    "            yield {'u': self.v, 'spiked': spiked}\n",
    "\n",
    "    def v_t_plot(self):\n",
    "        \n",
    "        plt.plot(list(map(lambda i: i * self.steps, range(len(self.v_t)))), self.v_t)\n",
    "        plt.show()\n",
    "        \n",
    "        self.a"
   ]
  },
  {
   "cell_type": "code",
   "execution_count": 172,
   "id": "a0f5fc48",
   "metadata": {},
   "outputs": [],
   "source": [
    "class STDP:\n",
    "    def __init__(self, neurons, connections, weights, delay=1, iterations=1000):\n",
    "        \n",
    "        self.neurons = neurons\n",
    "        self.neuron_action = []\n",
    "        \n",
    "        for lif in neurons:\n",
    "            self.neuron_action.append(lif.start())\n",
    "        \n",
    "        \n",
    "        self.weights = weights\n",
    "        self.connections = connections\n",
    "        self.iterations = iterations\n",
    "        \n",
    "        self.spikes = []\n",
    "        self.spikes_time = []\n",
    "        self.delay = delay\n",
    "        self.effects_of_spikes = []\n",
    "        self.time_range = []\n",
    "        \n",
    "        self.w_t = [[0] * self.iterations for _ in range(len(connections))]\n",
    "        \n",
    "    def start(self):\n",
    "        \n",
    "        self.effects_of_spikes = [[0] * len(self.neurons) for _ in range(self.iterations)]\n",
    "        \n",
    "        for t in range(self.iterations):\n",
    "            self.time_range.append(t)\n",
    "            \n",
    "            \n",
    "            for i in range(len(self.neuron_action)):\n",
    "                \n",
    "                action_information = next(self.neuron_action[i])\n",
    "                \n",
    "                if action_information['spiked']:\n",
    "                    \n",
    "                    self.spikes.append(i+1)\n",
    "                    self.spikes_time.append(t)\n",
    "                    index = 0\n",
    "                    \n",
    "                    for connection in self.connections:\n",
    "                        \n",
    "                        if connection[0] == i+1:\n",
    "                            \n",
    "                            if t+self.delay < self.iterations:\n",
    "                                \n",
    "                                self.effects_of_spikes[t + self.delay][connection[1]-1] += self.weights[index]\n",
    "\n",
    "                            spike_index = len(self.spikes)-1\n",
    "                            \n",
    "                            for spike in reversed(self.spikes):\n",
    "                                \n",
    "                                if spike == connection[1]:\n",
    "                                    \n",
    "                                    t_post_minus_t_previous = self.spikes_time[spike_index] - t\n",
    "                                    self.weights[index] = self.weights[index] + 25*math.exp(-abs(t_post_minus_t_previous)/5)\n",
    "                                    break\n",
    "                                    \n",
    "                                spike_index -= 1\n",
    "\n",
    "                        elif connection[1] == i+1:\n",
    "                            \n",
    "                            for spike in reversed(self.spikes):\n",
    "                                \n",
    "                                if spike == connection[0]:\n",
    "                                    \n",
    "                                    t_post_minus_t_previous = t - self.spikes_time[spike_index]\n",
    "                                    self.weights[index] = self.weights[index] - 25*math.exp(-abs(t_post_minus_t_previous)/5)\n",
    "                                    break\n",
    "                        index += 1\n",
    "\n",
    "                connection_index = 0\n",
    "                \n",
    "                for weight in self.weights:\n",
    "                    \n",
    "                    self.w_t[connection_index][t] = self.weights[connection_index]\n",
    "                    connection_index += 1\n",
    "\n",
    "            for i in range(len(self.neurons)):\n",
    "                \n",
    "                self.neurons[i].v += self.effects_of_spikes[t][i]\n",
    "                \n",
    "        print(self.weights)\n",
    "      \n",
    "    \n",
    "    def u_plot(self):\n",
    "        \n",
    "        legend = []\n",
    "        \n",
    "        for i in range(len(self.neurons)):\n",
    "            \n",
    "            plt.plot(list(map(lambda j: j * self.neurons[i].steps, range(len(self.neurons[i].v_t)))), self.neurons[i].v_t)\n",
    "            legend.append('Neuron ' + str(i+1))\n",
    "            \n",
    "        plt.legend(legend)\n",
    "        \n",
    "    def scatter_plot(self):\n",
    "        \n",
    "        plt.scatter(self.spikes_time, self.spikes, color='red', s=5)\n",
    "        \n",
    "    def wt_plot(self, previous, post):\n",
    "        \n",
    "        i = 0\n",
    "        for connection in self.connections:\n",
    "            \n",
    "            if connection[0] == previous and connection[1] == post:\n",
    "                break\n",
    "                \n",
    "            i += 1\n",
    "            \n",
    "        plt.plot(self.time_range, self.w_t[i], color='red')"
   ]
  },
  {
   "cell_type": "code",
   "execution_count": 173,
   "id": "2e264c70",
   "metadata": {},
   "outputs": [],
   "source": [
    "I1 = lambda x: 70\n",
    "I2 = lambda x: 30\n",
    "I3 = lambda x: 50\n",
    "\n",
    "first_neuron = LIF(I=I1)\n",
    "second_neuron = LIF(I=I2)\n",
    "third_neuron = LIF(I=I3)\n",
    "\n",
    "neurons = [first_neuron, second_neuron, third_neuron]\n",
    "connections = [(1, 2), (1, 3), (2, 1), (2, 3), (3, 1), (3, 2)]\n",
    "weights = [4, 4, 4, 4, 4, 4]"
   ]
  },
  {
   "cell_type": "code",
   "execution_count": 174,
   "id": "7fcda0e2",
   "metadata": {},
   "outputs": [
    {
     "name": "stdout",
     "output_type": "stream",
     "text": [
      "[2501.0016304391957, -20.748683318009704, 2540.6230770947004, 4.061968804521233, 3.954426994235204, 3.938031195478767]\n"
     ]
    }
   ],
   "source": [
    "stdp = STDP(neurons, connections, weights)\n",
    "stdp.start()"
   ]
  },
  {
   "cell_type": "code",
   "execution_count": 175,
   "id": "fc4fc1cb",
   "metadata": {},
   "outputs": [
    {
     "data": {
      "image/png": "[encoded data removed]",
      "text/plain": [
       "<Figure size 432x288 with 1 Axes>"
      ]
     },
     "metadata": {
      "needs_background": "light"
     },
     "output_type": "display_data"
    }
   ],
   "source": [
    "stdp.u_plot()"
   ]
  },
  {
   "cell_type": "code",
   "execution_count": 176,
   "id": "b8e892fd",
   "metadata": {},
   "outputs": [
    {
     "data": {
      "image/png": "[encoded data removed]",
      "text/plain": [
       "<Figure size 432x288 with 1 Axes>"
      ]
     },
     "metadata": {
      "needs_background": "light"
     },
     "output_type": "display_data"
    }
   ],
   "source": [
    "stdp.wt_plot(1, 3)"
   ]
  },
  {
   "cell_type": "code",
   "execution_count": 177,
   "id": "bd51fac4",
   "metadata": {},
   "outputs": [
    {
     "data": {
      "image/png": "[encoded data removed]",
      "text/plain": [
       "<Figure size 432x288 with 1 Axes>"
      ]
     },
     "metadata": {
      "needs_background": "light"
     },
     "output_type": "display_data"
    }
   ],
   "source": [
    "stdp.wt_plot(2, 3)"
   ]
  },
  {
   "cell_type": "code",
   "execution_count": 178,
   "id": "ce2df3ad",
   "metadata": {},
   "outputs": [
    {
     "data": {
      "image/png": "[encoded data removed]",
      "text/plain": [
       "<Figure size 432x288 with 1 Axes>"
      ]
     },
     "metadata": {
      "needs_background": "light"
     },
     "output_type": "display_data"
    }
   ],
   "source": [
    "stdp.wt_plot(3, 1)"
   ]
  },
  {
   "cell_type": "code",
   "execution_count": 179,
   "id": "4e6ffabd",
   "metadata": {},
   "outputs": [
    {
     "data": {
      "image/png": "[encoded data removed]",
      "text/plain": [
       "<Figure size 432x288 with 1 Axes>"
      ]
     },
     "metadata": {
      "needs_background": "light"
     },
     "output_type": "display_data"
    }
   ],
   "source": [
    "stdp.wt_plot(1, 2)"
   ]
  },
  {
   "cell_type": "code",
   "execution_count": 180,
   "id": "649df335",
   "metadata": {},
   "outputs": [
    {
     "data": {
      "image/png": "[encoded data removed]",
      "text/plain": [
       "<Figure size 432x288 with 1 Axes>"
      ]
     },
     "metadata": {
      "needs_background": "light"
     },
     "output_type": "display_data"
    }
   ],
   "source": [
    "stdp.scatter_plot()"
   ]
  },
  {
   "cell_type": "code",
   "execution_count": 208,
   "id": "0788d024",
   "metadata": {},
   "outputs": [],
   "source": [
    "I1 = lambda x: 30 * (math.sin(x/10) + 0.6)\n",
    "I2 = lambda x: 40 * (math.sin(x/10) + 0.3)\n",
    "I3 = lambda x: 50 * (math.cos(x/10) + 0.9)\n",
    "\n",
    "first_neuron = LIF(I=I1)\n",
    "second_neuron = LIF(I=I2)\n",
    "third_neuron = LIF(I=I3)\n",
    "\n",
    "neurons = [neuron1, neuron2, neuron3]\n",
    "connections = [(1, 2), (1, 3), (2, 1), (2, 3), (3, 1), (3, 2)]\n",
    "weights = [4, 4, 4, 4, 4, 4]"
   ]
  },
  {
   "cell_type": "code",
   "execution_count": 209,
   "id": "f67dedc4",
   "metadata": {},
   "outputs": [
    {
     "name": "stdout",
     "output_type": "stream",
     "text": [
      "[-681.2392491024702, -664.5554503367952, -12.735204239717357, 374.49133879021025, -1.4752971668401471, 28.983347760652585]\n"
     ]
    }
   ],
   "source": [
    "stdp = STDP(neurons, connections, weights)\n",
    "stdp.start()"
   ]
  },
  {
   "cell_type": "code",
   "execution_count": 210,
   "id": "8dd352f2",
   "metadata": {},
   "outputs": [
    {
     "data": {
      "image/png": "[encoded data removed]",
      "text/plain": [
       "<Figure size 432x288 with 1 Axes>"
      ]
     },
     "metadata": {
      "needs_background": "light"
     },
     "output_type": "display_data"
    }
   ],
   "source": [
    "stdp.u_plot()"
   ]
  },
  {
   "cell_type": "code",
   "execution_count": 211,
   "id": "6f473006",
   "metadata": {},
   "outputs": [
    {
     "data": {
      "image/png": "[encoded data removed]",
      "text/plain": [
       "<Figure size 432x288 with 1 Axes>"
      ]
     },
     "metadata": {
      "needs_background": "light"
     },
     "output_type": "display_data"
    }
   ],
   "source": [
    "stdp.wt_plot(2, 1)"
   ]
  },
  {
   "cell_type": "code",
   "execution_count": 212,
   "id": "ce553b90",
   "metadata": {},
   "outputs": [
    {
     "data": {
      "image/png": "[encoded data removed]",
      "text/plain": [
       "<Figure size 432x288 with 1 Axes>"
      ]
     },
     "metadata": {
      "needs_background": "light"
     },
     "output_type": "display_data"
    }
   ],
   "source": [
    "stdp.wt_plot(3, 1)"
   ]
  },
  {
   "cell_type": "code",
   "execution_count": 213,
   "id": "589815e0",
   "metadata": {},
   "outputs": [
    {
     "data": {
      "image/png": "[encoded data removed]",
      "text/plain": [
       "<Figure size 432x288 with 1 Axes>"
      ]
     },
     "metadata": {
      "needs_background": "light"
     },
     "output_type": "display_data"
    }
   ],
   "source": [
    "stdp.wt_plot(1, 2)"
   ]
  },
  {
   "cell_type": "code",
   "execution_count": 214,
   "id": "4797fea5",
   "metadata": {},
   "outputs": [
    {
     "data": {
      "image/png": "[encoded data removed]",
      "text/plain": [
       "<Figure size 432x288 with 1 Axes>"
      ]
     },
     "metadata": {
      "needs_background": "light"
     },
     "output_type": "display_data"
    }
   ],
   "source": [
    "stdp.wt_plot(1, 3)"
   ]
  },
  {
   "cell_type": "code",
   "execution_count": 215,
   "id": "43f6c1d2",
   "metadata": {},
   "outputs": [
    {
     "data": {
      "image/png": "[encoded data removed]",
      "text/plain": [
       "<Figure size 432x288 with 1 Axes>"
      ]
     },
     "metadata": {
      "needs_background": "light"
     },
     "output_type": "display_data"
    }
   ],
   "source": [
    "stdp.scatter_plot()"
   ]
  },
  {
   "cell_type": "code",
   "execution_count": 216,
   "id": "54c2de65",
   "metadata": {},
   "outputs": [],
   "source": [
    "I1 = lambda x: 6 * x\n",
    "I2 = lambda x: 4 * x\n",
    "I3 = lambda x: 3 * x\n",
    "\n",
    "first_neuron = LIF(I=I1)\n",
    "second_neuron = LIF(I=I2)\n",
    "third_neuron = LIF(I=I3)\n",
    "\n",
    "neurons = [first_neuron, second_neuron, third_neuron]\n",
    "connections = [(1, 2), (1, 3), (2, 1), (2, 3), (3, 1), (3, 2)]\n",
    "weights = [4, 4, 4, 4, 4, 4]"
   ]
  },
  {
   "cell_type": "code",
   "execution_count": 217,
   "id": "4e9b3888",
   "metadata": {},
   "outputs": [
    {
     "name": "stdout",
     "output_type": "stream",
     "text": [
      "[-16.852208424322008, -20.861742477698762, -20.8869616286854, -21.0, 20.619743628589745, 6.770078959058347]\n"
     ]
    }
   ],
   "source": [
    "stdp = STDP(neurons, connections, weights)\n",
    "stdp.start()"
   ]
  },
  {
   "cell_type": "code",
   "execution_count": 218,
   "id": "714f7bcb",
   "metadata": {},
   "outputs": [
    {
     "data": {
      "image/png": "[encoded data removed]",
      "text/plain": [
       "<Figure size 432x288 with 1 Axes>"
      ]
     },
     "metadata": {
      "needs_background": "light"
     },
     "output_type": "display_data"
    }
   ],
   "source": [
    "stdp.u_plot()"
   ]
  },
  {
   "cell_type": "code",
   "execution_count": 219,
   "id": "fd9d4d56",
   "metadata": {},
   "outputs": [
    {
     "data": {
      "image/png": "[encoded data removed]",
      "text/plain": [
       "<Figure size 432x288 with 1 Axes>"
      ]
     },
     "metadata": {
      "needs_background": "light"
     },
     "output_type": "display_data"
    }
   ],
   "source": [
    "stdp.wt_plot(2, 1)"
   ]
  },
  {
   "cell_type": "code",
   "execution_count": 220,
   "id": "18855886",
   "metadata": {},
   "outputs": [
    {
     "data": {
      "image/png": "[encoded data removed]",
      "text/plain": [
       "<Figure size 432x288 with 1 Axes>"
      ]
     },
     "metadata": {
      "needs_background": "light"
     },
     "output_type": "display_data"
    }
   ],
   "source": [
    "stdp.wt_plot(3, 1)"
   ]
  },
  {
   "cell_type": "code",
   "execution_count": 221,
   "id": "bc4a8bf1",
   "metadata": {},
   "outputs": [
    {
     "data": {
      "image/png": "[encoded data removed]",
      "text/plain": [
       "<Figure size 432x288 with 1 Axes>"
      ]
     },
     "metadata": {
      "needs_background": "light"
     },
     "output_type": "display_data"
    }
   ],
   "source": [
    "stdp.wt_plot(1, 2)"
   ]
  },
  {
   "cell_type": "code",
   "execution_count": 222,
   "id": "92452e00",
   "metadata": {},
   "outputs": [
    {
     "data": {
      "image/png": "[encoded data removed]",
      "text/plain": [
       "<Figure size 432x288 with 1 Axes>"
      ]
     },
     "metadata": {
      "needs_background": "light"
     },
     "output_type": "display_data"
    }
   ],
   "source": [
    "stdp.wt_plot(2, 3)"
   ]
  },
  {
   "cell_type": "code",
   "execution_count": 223,
   "id": "a59acfa2",
   "metadata": {},
   "outputs": [
    {
     "data": {
      "image/png": "[encoded data removed]",
      "text/plain": [
       "<Figure size 432x288 with 1 Axes>"
      ]
     },
     "metadata": {
      "needs_background": "light"
     },
     "output_type": "display_data"
    }
   ],
   "source": [
    "stdp.scatter_plot()"
   ]
  },
  {
   "cell_type": "code",
   "execution_count": 197,
   "id": "b791f0cd",
   "metadata": {},
   "outputs": [],
   "source": [
    "class RSTDP:\n",
    "    def __init__(self, neurons, connections, weights ,output, target_neuron, mode='tr', delay=1, iterations=1000):\n",
    "        \n",
    "        self.neurons = neurons\n",
    "        self.output = output\n",
    "        self.target_neuron = target_neuron\n",
    "        self.mode = mode\n",
    "        self.neroun_action = []\n",
    "        \n",
    "        for i in neurons:\n",
    "            \n",
    "            self.neroun_action.append(i.start())\n",
    "\n",
    "        \n",
    "        self.weights = weights\n",
    "        self.spikes = []\n",
    "        self.spikes_time = []\n",
    "        self.connections = connections\n",
    "        self.iterations = iterations\n",
    "        self.delay = delay\n",
    "        self.effects_of_spikes = []\n",
    "        self.time_range = []\n",
    "        \n",
    "        self.w_t = [[0] * self.iterations for _ in range(len(connections))]\n",
    "    \n",
    "    def start(self):\n",
    "        \n",
    "        self.effects_of_spikes = [[0] * len(self.neurons) for _ in range(self.iterations)]\n",
    "        \n",
    "        for t in range(self.iterations):\n",
    "            \n",
    "            self.time_range.append(t)\n",
    "      \n",
    "            for i in range(len(self.neroun_action)):\n",
    "            \n",
    "                action_information = next(self.neroun_action[i])\n",
    "                \n",
    "                if action_information['spiked']:\n",
    "                    \n",
    "                    if i+1 in self.output:\n",
    "                        \n",
    "                        if self.mode == 'tr':\n",
    "                            \n",
    "                            if i+1 == self.target_neuron:\n",
    "                                d = 10\n",
    "                                \n",
    "                            else:\n",
    "                                d = 1/2\n",
    "                                \n",
    "                            connection_index = 0\n",
    "                            \n",
    "                            for weight in self.weights:\n",
    "                                \n",
    "                                self.weights[connection_index] *= d\n",
    "                                connection_index += 1\n",
    "                                \n",
    "                        if self.mode == 'test':\n",
    "                            \n",
    "                            return self.weights, t, i+1 == self.target_neuron\n",
    "                        \n",
    "                    self.spikes.append(i + 1)\n",
    "                    self.spikes_time.append(t)\n",
    "                    \n",
    "                    index = 0\n",
    "                    \n",
    "                    for connection in self.connections:\n",
    "                        \n",
    "                        if connection[0] == i+1:   \n",
    "                            \n",
    "                            if t+self.delay < self.iterations:\n",
    "                                \n",
    "                                self.effects_of_spikes[t + self.delay][connection[1]-1] += self.weights[index]\n",
    "                                \n",
    "                            if self.mode == 'tr':\n",
    "                                \n",
    "                                spike_index = len(self.spikes)-1\n",
    "                                \n",
    "                                for spike in reversed(self.spikes):\n",
    "                                    \n",
    "                                    if spike == connection[1]:\n",
    "                                        \n",
    "                                        t_post_minus_t_previous = self.spikes_time[spike_index] - t\n",
    "                                        self.weights[index] = self.weights[index] + 25*math.exp(-abs(t_post_minus_t_previous)/5)\n",
    "                                        break\n",
    "                                        \n",
    "                                    spike_index -= 1\n",
    "                                    \n",
    "                        elif connection[1] == i+1:\n",
    "                            \n",
    "                            if self.mode == 'tr':\n",
    "                                \n",
    "                                for spike in reversed(self.spikes):\n",
    "                                    \n",
    "                                    if spike == connection[0]:\n",
    "                                        \n",
    "                                        t_post_minus_t_previous = t - self.spikes_time[spike_index]\n",
    "                                        self.weights[index] = self.weights[index] - 25*math.exp(-abs(t_post_minus_t_previous)/5)\n",
    "                                        break\n",
    "                                        \n",
    "                        index += 1\n",
    "                        \n",
    "                connection_index = 0\n",
    "                \n",
    "                for weight in self.weights:\n",
    "                    \n",
    "                    self.w_t[connection_index][t] = self.weights[connection_index]\n",
    "                    connection_index += 1\n",
    "\n",
    "            for i in range(len(self.neurons)):\n",
    "                \n",
    "                self.neurons[i].v += self.effects_of_spikes[t][i]\n",
    "\n",
    "        if self.mode == 'tr':\n",
    "            \n",
    "            return self.weights, self.iterations\n",
    "        \n",
    "        else: \n",
    "            \n",
    "            return self.weights, self.iterations, False"
   ]
  },
  {
   "cell_type": "code",
   "execution_count": 203,
   "id": "daf6c4e7",
   "metadata": {},
   "outputs": [],
   "source": [
    "def train(step_number, input_currents, target_neuron, weights):\n",
    "    neurons = []\n",
    "\n",
    "    for iterator in range(5):\n",
    "        \n",
    "        neurons.append(LIF(I=lambda x: input_currents[iterator] * 10))\n",
    "        \n",
    "    for iterator in range(2):\n",
    "        \n",
    "        neurons.append(LIF(I=lambda x: 0))\n",
    "\n",
    "    \n",
    "    connections =  [(1, 6), (1, 7), (2, 6), (2, 7), (3, 6), (3, 7), (4, 6), (4, 7), (5, 6), (5, 7)]\n",
    "    \n",
    "    if step_number == 1:\n",
    "        \n",
    "        weights = [15, 15, 15, 15, 15, 15, 15, 15, 15, 15]\n",
    "        \n",
    "    rstdp = RSTDP(neurons, connections, weights, output = [6,7], target_neuron = target_neuron + 6, mode='tr')\n",
    "    weights, ending_iteration = rstdp.start()\n",
    "    \n",
    "    print(ending_iteration)\n",
    "    return weights\n",
    "\n",
    "def test(input_currents, target_neuron, weights):\n",
    "    \n",
    "    neurons = []\n",
    "\n",
    "    for iterator in range(5):\n",
    "        \n",
    "        neurons.append(LIF(I=lambda x: input_currents[iterator]*10))\n",
    "        \n",
    "    for iterator in range(2):\n",
    "        \n",
    "        neurons.append(LIF(I=lambda x: 0))\n",
    "\n",
    "        \n",
    "    connections = [(1, 6), (1, 7), (2, 6), (2, 7), (3, 6), (3, 7), (4, 6), (4, 7), (5, 6), (5, 7)]\n",
    "\n",
    "    rstdp = RSTDP(neurons, connections, weights, output = [6,7], target_neuron = target_neuron + 6, mode='test')\n",
    "    weights, ending_iteration, last_spike = rstdp.start()\n",
    "    \n",
    "    print(ending_iteration)\n",
    "    print(last_spike)\n",
    "    \n",
    "    return weights"
   ]
  },
  {
   "cell_type": "code",
   "execution_count": 204,
   "id": "bc692b70",
   "metadata": {},
   "outputs": [
    {
     "data": {
      "text/html": [
       "<div>\n",
       "<style scoped>\n",
       "    .dataframe tbody tr th:only-of-type {\n",
       "        vertical-align: middle;\n",
       "    }\n",
       "\n",
       "    .dataframe tbody tr th {\n",
       "        vertical-align: top;\n",
       "    }\n",
       "\n",
       "    .dataframe thead th {\n",
       "        text-align: right;\n",
       "    }\n",
       "</style>\n",
       "<table border=\"1\" class=\"dataframe\">\n",
       "  <thead>\n",
       "    <tr style=\"text-align: right;\">\n",
       "      <th></th>\n",
       "      <th>test</th>\n",
       "      <th>Unnamed: 1</th>\n",
       "      <th>Unnamed: 2</th>\n",
       "      <th>Unnamed: 3</th>\n",
       "      <th>Unnamed: 4</th>\n",
       "      <th>Unnamed: 5</th>\n",
       "      <th>Unnamed: 6</th>\n",
       "      <th>Unnamed: 7</th>\n",
       "      <th>Unnamed: 8</th>\n",
       "      <th>Unnamed: 9</th>\n",
       "      <th>Unnamed: 10</th>\n",
       "    </tr>\n",
       "  </thead>\n",
       "  <tbody>\n",
       "    <tr>\n",
       "      <th>0</th>\n",
       "      <td>inpput_neuron_number</td>\n",
       "      <td>train_1</td>\n",
       "      <td>train_2</td>\n",
       "      <td>train_3</td>\n",
       "      <td>train_4</td>\n",
       "      <td>train_5</td>\n",
       "      <td>train_6</td>\n",
       "      <td>train_7</td>\n",
       "      <td>train_8</td>\n",
       "      <td>train_9</td>\n",
       "      <td>train_10</td>\n",
       "    </tr>\n",
       "    <tr>\n",
       "      <th>1</th>\n",
       "      <td>1.0</td>\n",
       "      <td>1.0</td>\n",
       "      <td>2.0</td>\n",
       "      <td>3.0</td>\n",
       "      <td>2.0</td>\n",
       "      <td>1.0</td>\n",
       "      <td>1.0</td>\n",
       "      <td>0.0</td>\n",
       "      <td>0.0</td>\n",
       "      <td>0.0</td>\n",
       "      <td>2.0</td>\n",
       "    </tr>\n",
       "    <tr>\n",
       "      <th>2</th>\n",
       "      <td>2.0</td>\n",
       "      <td>1.0</td>\n",
       "      <td>1.0</td>\n",
       "      <td>1.0</td>\n",
       "      <td>0.0</td>\n",
       "      <td>1.0</td>\n",
       "      <td>0.0</td>\n",
       "      <td>1.0</td>\n",
       "      <td>0.0</td>\n",
       "      <td>0.0</td>\n",
       "      <td>2.0</td>\n",
       "    </tr>\n",
       "    <tr>\n",
       "      <th>3</th>\n",
       "      <td>3.0</td>\n",
       "      <td>0.0</td>\n",
       "      <td>1.0</td>\n",
       "      <td>0.0</td>\n",
       "      <td>0.0</td>\n",
       "      <td>0.0</td>\n",
       "      <td>0.0</td>\n",
       "      <td>0.0</td>\n",
       "      <td>0.0</td>\n",
       "      <td>0.0</td>\n",
       "      <td>2.0</td>\n",
       "    </tr>\n",
       "    <tr>\n",
       "      <th>4</th>\n",
       "      <td>4.0</td>\n",
       "      <td>0.0</td>\n",
       "      <td>0.0</td>\n",
       "      <td>0.0</td>\n",
       "      <td>0.0</td>\n",
       "      <td>0.0</td>\n",
       "      <td>0.0</td>\n",
       "      <td>3.0</td>\n",
       "      <td>1.0</td>\n",
       "      <td>0.0</td>\n",
       "      <td>1.0</td>\n",
       "    </tr>\n",
       "    <tr>\n",
       "      <th>5</th>\n",
       "      <td>5.0</td>\n",
       "      <td>0.0</td>\n",
       "      <td>0.0</td>\n",
       "      <td>0.0</td>\n",
       "      <td>0.0</td>\n",
       "      <td>1.0</td>\n",
       "      <td>2.0</td>\n",
       "      <td>0.0</td>\n",
       "      <td>1.0</td>\n",
       "      <td>1.0</td>\n",
       "      <td>2.0</td>\n",
       "    </tr>\n",
       "    <tr>\n",
       "      <th>6</th>\n",
       "      <td>output_neuron_number</td>\n",
       "      <td>1.0</td>\n",
       "      <td>1.0</td>\n",
       "      <td>1.0</td>\n",
       "      <td>1.0</td>\n",
       "      <td>1.0</td>\n",
       "      <td>0.0</td>\n",
       "      <td>0.0</td>\n",
       "      <td>0.0</td>\n",
       "      <td>0.0</td>\n",
       "      <td>1.0</td>\n",
       "    </tr>\n",
       "    <tr>\n",
       "      <th>7</th>\n",
       "      <td>NaN</td>\n",
       "      <td>NaN</td>\n",
       "      <td>NaN</td>\n",
       "      <td>NaN</td>\n",
       "      <td>NaN</td>\n",
       "      <td>NaN</td>\n",
       "      <td>NaN</td>\n",
       "      <td>NaN</td>\n",
       "      <td>NaN</td>\n",
       "      <td>NaN</td>\n",
       "      <td>NaN</td>\n",
       "    </tr>\n",
       "    <tr>\n",
       "      <th>8</th>\n",
       "      <td>test</td>\n",
       "      <td>NaN</td>\n",
       "      <td>NaN</td>\n",
       "      <td>NaN</td>\n",
       "      <td>NaN</td>\n",
       "      <td>NaN</td>\n",
       "      <td>NaN</td>\n",
       "      <td>NaN</td>\n",
       "      <td>NaN</td>\n",
       "      <td>NaN</td>\n",
       "      <td>NaN</td>\n",
       "    </tr>\n",
       "    <tr>\n",
       "      <th>9</th>\n",
       "      <td>inpput_neuron_number</td>\n",
       "      <td>train_1</td>\n",
       "      <td>train_2</td>\n",
       "      <td>train_3</td>\n",
       "      <td>train_4</td>\n",
       "      <td>train_5</td>\n",
       "      <td>train_6</td>\n",
       "      <td>train_7</td>\n",
       "      <td>train_8</td>\n",
       "      <td>train_9</td>\n",
       "      <td>train_10</td>\n",
       "    </tr>\n",
       "    <tr>\n",
       "      <th>10</th>\n",
       "      <td>1.0</td>\n",
       "      <td>1.0</td>\n",
       "      <td>0.0</td>\n",
       "      <td>0.0</td>\n",
       "      <td>2.0</td>\n",
       "      <td>1.0</td>\n",
       "      <td>1.0</td>\n",
       "      <td>3.0</td>\n",
       "      <td>0.0</td>\n",
       "      <td>1.0</td>\n",
       "      <td>2.0</td>\n",
       "    </tr>\n",
       "    <tr>\n",
       "      <th>11</th>\n",
       "      <td>2.0</td>\n",
       "      <td>0.0</td>\n",
       "      <td>1.0</td>\n",
       "      <td>2.0</td>\n",
       "      <td>2.0</td>\n",
       "      <td>2.0</td>\n",
       "      <td>0.0</td>\n",
       "      <td>1.0</td>\n",
       "      <td>0.0</td>\n",
       "      <td>2.0</td>\n",
       "      <td>2.0</td>\n",
       "    </tr>\n",
       "    <tr>\n",
       "      <th>12</th>\n",
       "      <td>3.0</td>\n",
       "      <td>0.0</td>\n",
       "      <td>0.0</td>\n",
       "      <td>0.0</td>\n",
       "      <td>1.0</td>\n",
       "      <td>0.0</td>\n",
       "      <td>0.0</td>\n",
       "      <td>0.0</td>\n",
       "      <td>2.0</td>\n",
       "      <td>0.0</td>\n",
       "      <td>2.0</td>\n",
       "    </tr>\n",
       "    <tr>\n",
       "      <th>13</th>\n",
       "      <td>4.0</td>\n",
       "      <td>0.0</td>\n",
       "      <td>0.0</td>\n",
       "      <td>0.0</td>\n",
       "      <td>0.0</td>\n",
       "      <td>0.0</td>\n",
       "      <td>0.0</td>\n",
       "      <td>2.0</td>\n",
       "      <td>2.0</td>\n",
       "      <td>1.0</td>\n",
       "      <td>3.0</td>\n",
       "    </tr>\n",
       "    <tr>\n",
       "      <th>14</th>\n",
       "      <td>5.0</td>\n",
       "      <td>0.0</td>\n",
       "      <td>0.0</td>\n",
       "      <td>0.0</td>\n",
       "      <td>0.0</td>\n",
       "      <td>0.0</td>\n",
       "      <td>3.0</td>\n",
       "      <td>3.0</td>\n",
       "      <td>2.0</td>\n",
       "      <td>1.0</td>\n",
       "      <td>3.0</td>\n",
       "    </tr>\n",
       "    <tr>\n",
       "      <th>15</th>\n",
       "      <td>output_neuron_number</td>\n",
       "      <td>1.0</td>\n",
       "      <td>1.0</td>\n",
       "      <td>1.0</td>\n",
       "      <td>1.0</td>\n",
       "      <td>1.0</td>\n",
       "      <td>0.0</td>\n",
       "      <td>0.0</td>\n",
       "      <td>0.0</td>\n",
       "      <td>1.0</td>\n",
       "      <td>0.0</td>\n",
       "    </tr>\n",
       "  </tbody>\n",
       "</table>\n",
       "</div>"
      ],
      "text/plain": [
       "                    test Unnamed: 1 Unnamed: 2 Unnamed: 3 Unnamed: 4  \\\n",
       "0   inpput_neuron_number   train_1     train_2    train_3    train_4   \n",
       "1                    1.0        1.0        2.0        3.0        2.0   \n",
       "2                    2.0        1.0        1.0        1.0        0.0   \n",
       "3                    3.0        0.0        1.0        0.0        0.0   \n",
       "4                    4.0        0.0        0.0        0.0        0.0   \n",
       "5                    5.0        0.0        0.0        0.0        0.0   \n",
       "6   output_neuron_number        1.0        1.0        1.0        1.0   \n",
       "7                    NaN        NaN        NaN        NaN        NaN   \n",
       "8                   test        NaN        NaN        NaN        NaN   \n",
       "9   inpput_neuron_number   train_1     train_2    train_3    train_4   \n",
       "10                   1.0        1.0        0.0        0.0        2.0   \n",
       "11                   2.0        0.0        1.0        2.0        2.0   \n",
       "12                   3.0        0.0        0.0        0.0        1.0   \n",
       "13                   4.0        0.0        0.0        0.0        0.0   \n",
       "14                   5.0        0.0        0.0        0.0        0.0   \n",
       "15  output_neuron_number        1.0        1.0        1.0        1.0   \n",
       "\n",
       "   Unnamed: 5 Unnamed: 6 Unnamed: 7 Unnamed: 8 Unnamed: 9 Unnamed: 10  \n",
       "0     train_5    train_6    train_7    train_8    train_9    train_10  \n",
       "1         1.0        1.0        0.0        0.0        0.0         2.0  \n",
       "2         1.0        0.0        1.0        0.0        0.0         2.0  \n",
       "3         0.0        0.0        0.0        0.0        0.0         2.0  \n",
       "4         0.0        0.0        3.0        1.0        0.0         1.0  \n",
       "5         1.0        2.0        0.0        1.0        1.0         2.0  \n",
       "6         1.0        0.0        0.0        0.0        0.0         1.0  \n",
       "7         NaN        NaN        NaN        NaN        NaN         NaN  \n",
       "8         NaN        NaN        NaN        NaN        NaN         NaN  \n",
       "9     train_5    train_6    train_7    train_8    train_9    train_10  \n",
       "10        1.0        1.0        3.0        0.0        1.0         2.0  \n",
       "11        2.0        0.0        1.0        0.0        2.0         2.0  \n",
       "12        0.0        0.0        0.0        2.0        0.0         2.0  \n",
       "13        0.0        0.0        2.0        2.0        1.0         3.0  \n",
       "14        0.0        3.0        3.0        2.0        1.0         3.0  \n",
       "15        1.0        0.0        0.0        0.0        1.0         0.0  "
      ]
     },
     "execution_count": 204,
     "metadata": {},
     "output_type": "execute_result"
    }
   ],
   "source": [
    "import pandas as pd\n",
    "data = pd.read_excel('./CN_3_DATASET.xlsx')\n",
    "data"
   ]
  },
  {
   "cell_type": "code",
   "execution_count": 205,
   "id": "e3629f92",
   "metadata": {},
   "outputs": [],
   "source": [
    "train_list = [([1,1,0,0,0], 1), \n",
    "              ([2,1,1,0,0], 1), \n",
    "              ([3,1,0,0,0], 1), \n",
    "              ([2,0,0,0,0], 1), \n",
    "              ([1,1,0,0,1], 0), \n",
    "              ([1,0,0,0,2], 0), \n",
    "              ([0,1,0,3,0], 0), \n",
    "              ([0,0,0,1,1], 0), \n",
    "              ([0,0,0,0,1], 0), \n",
    "              ([2,2,2,1,2], 1)]\n",
    "\n",
    "test_list = [([1,0,0,0,0], 1), \n",
    "             ([0,1,0,0,0], 1), \n",
    "             ([0,2,0,0,0], 1), \n",
    "             ([2,2,1,0,0], 1), \n",
    "             ([1,2,0,0,0], 1), \n",
    "             ([1,0,0,0,3], 0), \n",
    "             ([3,1,0,2,3], 0), \n",
    "             ([0,0,2,2,2], 0), \n",
    "             ([1,2,0,1,1], 1), \n",
    "             ([2,2,2,3,3], 0)]"
   ]
  },
  {
   "cell_type": "code",
   "execution_count": 206,
   "id": "158492cf",
   "metadata": {},
   "outputs": [
    {
     "name": "stdout",
     "output_type": "stream",
     "text": [
      "1000\n",
      "[-175.0, 50.0, -175.0, 50.0, -175.0, 50.0, -175.0, 50.0, -175.0, 50.0]\n",
      "1000\n",
      "[-1750.0, 475.0, -1750.0, 475.0, -1750.0, 475.0, -1750.0, 475.0, -1750.0, 475.0]\n",
      "1000\n",
      "[-17500.0, 4725.0, -17500.0, 4725.0, -17500.0, 4725.0, -17500.0, 4725.0, -17500.0, 4725.0]\n",
      "1000\n",
      "[-17500.0, 4725.0, -17500.0, 4725.0, -17500.0, 4725.0, -17500.0, 4725.0, -17500.0, 4725.0]\n",
      "1000\n",
      "[-8750.0, 2337.5, -8750.0, 2337.5, -8750.0, 2337.5, -8750.0, 2337.5, -8750.0, 2337.5]\n",
      "1000\n",
      "[-8750.0, 2337.5, -8750.0, 2337.5, -8750.0, 2337.5, -8750.0, 2337.5, -8750.0, 2337.5]\n",
      "1000\n",
      "[-4375.0, 1143.75, -4375.0, 1143.75, -4375.0, 1143.75, -4375.0, 1143.75, -4375.0, 1143.75]\n",
      "1000\n",
      "[-4375.0, 1143.75, -4375.0, 1143.75, -4375.0, 1143.75, -4375.0, 1143.75, -4375.0, 1143.75]\n",
      "1000\n",
      "[-4375.0, 1143.75, -4375.0, 1143.75, -4375.0, 1143.75, -4375.0, 1143.75, -4375.0, 1143.75]\n",
      "1000\n",
      "[-4375000.0, 1141250.0, -4375000.0, 1141250.0, -4375000.0, 1141250.0, -4375000.0, 1141250.0, -4375000.0, 1141250.0]\n"
     ]
    }
   ],
   "source": [
    "weights = []\n",
    "\n",
    "learning_step = 1\n",
    "\n",
    "for data in train_list:\n",
    "    \n",
    "    weights = train(step_number = learning_step, input_currents = data[0], target_neuron = data[1], weights = weights)\n",
    "    \n",
    "    print(weights)\n",
    "    \n",
    "    learning_step += 1"
   ]
  },
  {
   "cell_type": "code",
   "execution_count": 207,
   "id": "95b80f0e",
   "metadata": {},
   "outputs": [
    {
     "name": "stdout",
     "output_type": "stream",
     "text": [
      "1000\n",
      "False\n",
      "[-4375000.0, 1141250.0, -4375000.0, 1141250.0, -4375000.0, 1141250.0, -4375000.0, 1141250.0, -4375000.0, 1141250.0]\n",
      "767\n",
      "True\n",
      "[-4375000.0, 1141250.0, -4375000.0, 1141250.0, -4375000.0, 1141250.0, -4375000.0, 1141250.0, -4375000.0, 1141250.0]\n",
      "366\n",
      "True\n",
      "[-4375000.0, 1141250.0, -4375000.0, 1141250.0, -4375000.0, 1141250.0, -4375000.0, 1141250.0, -4375000.0, 1141250.0]\n",
      "366\n",
      "True\n",
      "[-4375000.0, 1141250.0, -4375000.0, 1141250.0, -4375000.0, 1141250.0, -4375000.0, 1141250.0, -4375000.0, 1141250.0]\n",
      "366\n",
      "True\n",
      "[-4375000.0, 1141250.0, -4375000.0, 1141250.0, -4375000.0, 1141250.0, -4375000.0, 1141250.0, -4375000.0, 1141250.0]\n",
      "1000\n",
      "False\n",
      "[-4375000.0, 1141250.0, -4375000.0, 1141250.0, -4375000.0, 1141250.0, -4375000.0, 1141250.0, -4375000.0, 1141250.0]\n",
      "767\n",
      "False\n",
      "[-4375000.0, 1141250.0, -4375000.0, 1141250.0, -4375000.0, 1141250.0, -4375000.0, 1141250.0, -4375000.0, 1141250.0]\n",
      "1000\n",
      "False\n",
      "[-4375000.0, 1141250.0, -4375000.0, 1141250.0, -4375000.0, 1141250.0, -4375000.0, 1141250.0, -4375000.0, 1141250.0]\n",
      "366\n",
      "True\n",
      "[-4375000.0, 1141250.0, -4375000.0, 1141250.0, -4375000.0, 1141250.0, -4375000.0, 1141250.0, -4375000.0, 1141250.0]\n",
      "366\n",
      "False\n",
      "[-4375000.0, 1141250.0, -4375000.0, 1141250.0, -4375000.0, 1141250.0, -4375000.0, 1141250.0, -4375000.0, 1141250.0]\n"
     ]
    }
   ],
   "source": [
    "for data in test_list:\n",
    "    \n",
    "    weights= test(input_currents = data[0], target_neuron = data[1], weights = weights)\n",
    "    \n",
    "    print(weights)"
   ]
  },
  {
   "cell_type": "code",
   "execution_count": null,
   "id": "acc6637f",
   "metadata": {},
   "outputs": [],
   "source": []
  },
  {
   "cell_type": "code",
   "execution_count": null,
   "id": "2fb85485",
   "metadata": {},
   "outputs": [],
   "source": []
  }
 ],
 "metadata": {
  "kernelspec": {
   "display_name": "Python 3 (ipykernel)",
   "language": "python",
   "name": "python3"
  },
  "language_info": {
   "codemirror_mode": {
    "name": "ipython",
    "version": 3
   },
   "file_extension": ".py",
   "mimetype": "text/x-python",
   "name": "python",
   "nbconvert_exporter": "python",
   "pygments_lexer": "ipython3",
   "version": "3.9.7"
  }
 },
 "nbformat": 4,
 "nbformat_minor": 5
}
